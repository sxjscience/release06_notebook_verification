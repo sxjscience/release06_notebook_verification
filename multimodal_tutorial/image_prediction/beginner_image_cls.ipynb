{
 "cells": [
  {
   "cell_type": "markdown",
   "id": "9b8d8482",
   "metadata": {},
   "source": [
    "# AutoMM for Image Classification - Quick Start\n",
    ":label:`sec_automm_imageclassification_beginner`\n",
    "\n",
    "In this quick start, we'll use the task of image classification to illustrate how to use **MultiModalPredictor**. Once the data is prepared in [Pandas DataFrame](https://pandas.pydata.org/pandas-docs/stable/reference/api/pandas.DataFrame.html) format, a single call to `MultiModalPredictor.fit()` will take care of the model training for you.\n",
    "\n",
    "\n",
    "## Create Image Dataset\n",
    "\n",
    "For demonstration purposes, we use a subset of the [Shopee-IET dataset](https://www.kaggle.com/c/shopee-iet-machine-learning-competition/data) from Kaggle.\n",
    "Each image in this data depicts a clothing item and the corresponding label specifies its clothing category.\n",
    "Our subset of the data contains the following possible labels: `BabyPants`, `BabyShirt`, `womencasualshoes`, `womenchiffontop`.\n",
    "\n",
    "We can load a dataset by downloading a url data automatically:"
   ]
  },
  {
   "cell_type": "code",
   "execution_count": null,
   "id": "84f2cd35",
   "metadata": {},
   "outputs": [],
   "source": [
    "import warnings\n",
    "warnings.filterwarnings('ignore')\n",
    "from autogluon.vision import ImageDataset\n",
    "train_dataset, _, test_dataset = ImageDataset.from_folders(\"https://autogluon.s3.amazonaws.com/datasets/shopee-iet.zip\")\n",
    "print(train_dataset)"
   ]
  },
  {
   "cell_type": "markdown",
   "id": "ebe59eaa",
   "metadata": {},
   "source": [
    "We can see there are 800 rows and 2 columns in this training dataframe. The 2 columns are **image** and **label**, and each row represents a different training sample.\n",
    "\n",
    "\n",
    "## Use AutoMM to Fit Models\n",
    "\n",
    "Now, we fit a classifier using AutoMM as follows:"
   ]
  },
  {
   "cell_type": "code",
   "execution_count": null,
   "id": "44610814",
   "metadata": {},
   "outputs": [],
   "source": [
    "from autogluon.multimodal import MultiModalPredictor\n",
    "predictor = MultiModalPredictor(label=\"label\", path=\"./automm_imgcls\")\n",
    "predictor.fit(\n",
    "    train_data=train_dataset,\n",
    "    time_limit=30, # seconds\n",
    ") # you can trust the default config, e.g., we use a `swin_base_patch4_window7_224` model"
   ]
  },
  {
   "cell_type": "markdown",
   "id": "8db83b63",
   "metadata": {},
   "source": [
    "**label** is the name of the column that contains the target variable to predict, e.g., it is \"label\" in our example. **path** indicates the directory where models and intermediate outputs should be saved. We set the training time limit to 30 seconds for demonstration purpose, but you can control the training time by setting configurations. To customize AutoMM, please refer to :ref:`sec_automm_customization`.\n",
    "\n",
    "\n",
    "## Evaluate on Test Dataset\n",
    "\n",
    "You can evaluate the classifier on the test dataset to see how it performs, the test top-1 accuracy is:"
   ]
  },
  {
   "cell_type": "code",
   "execution_count": null,
   "id": "f25312f0",
   "metadata": {},
   "outputs": [],
   "source": [
    "scores = predictor.evaluate(test_dataset, metrics=[\"accuracy\"])\n",
    "print('Top-1 test acc: %.3f' % scores[\"accuracy\"])"
   ]
  },
  {
   "cell_type": "markdown",
   "id": "17f4c7f8",
   "metadata": {},
   "source": [
    "## Predict on a New Image\n",
    "\n",
    "Given an example image, let's visualize it first,"
   ]
  },
  {
   "cell_type": "code",
   "execution_count": null,
   "id": "a1eeb950",
   "metadata": {},
   "outputs": [],
   "source": [
    "image_path = test_dataset.iloc[0]['image']\n",
    "from IPython.display import Image, display\n",
    "pil_img = Image(filename=image_path)\n",
    "display(pil_img)"
   ]
  },
  {
   "cell_type": "markdown",
   "id": "12847b0e",
   "metadata": {},
   "source": [
    "We can easily use the final model to `predict` the label,"
   ]
  },
  {
   "cell_type": "code",
   "execution_count": null,
   "id": "8bd30370",
   "metadata": {},
   "outputs": [],
   "source": [
    "predictions = predictor.predict({'image': [image_path]})\n",
    "print(predictions)"
   ]
  },
  {
   "cell_type": "markdown",
   "id": "79a01775",
   "metadata": {},
   "source": [
    "If probabilities of all categories are needed, you can call `predict_proba`:"
   ]
  },
  {
   "cell_type": "code",
   "execution_count": null,
   "id": "c22c9483",
   "metadata": {},
   "outputs": [],
   "source": [
    "proba = predictor.predict_proba({'image': [image_path]})\n",
    "print(proba)"
   ]
  },
  {
   "cell_type": "markdown",
   "id": "d9b7fc6e",
   "metadata": {},
   "source": [
    "## Extract Embeddings\n",
    "\n",
    "Extracting representation from the whole image learned by a model is also very useful. We provide `extract_embedding` function to allow predictor to return the N-dimensional image feature where `N` depends on the model(usually a 512 to 2048 length vector)"
   ]
  },
  {
   "cell_type": "code",
   "execution_count": null,
   "id": "96d1cbf0",
   "metadata": {},
   "outputs": [],
   "source": [
    "feature = predictor.extract_embedding({'image': [image_path]})\n",
    "print(feature[0].shape)"
   ]
  },
  {
   "cell_type": "markdown",
   "id": "870bd5ae",
   "metadata": {},
   "source": [
    "## Save and Load\n",
    "\n",
    "The trained predictor is automatically saved at the end of `fit()`, and you can easily reload it.\n",
    "\n",
    ":::warning\n",
    "\n",
    "`MultiModalPredictor.load()` used `pickle` module implicitly, which is known to be insecure. It is possible to construct malicious pickle data which will execute arbitrary code during unpickling. Never load data that could have come from an untrusted source, or that could have been tampered with. **Only load data you trust.**\n",
    "\n",
    ":::"
   ]
  },
  {
   "cell_type": "code",
   "execution_count": null,
   "id": "8324e471",
   "metadata": {},
   "outputs": [],
   "source": [
    "loaded_predictor = MultiModalPredictor.load('automm_imgcls')\n",
    "load_proba = loaded_predictor.predict_proba({'image': [image_path]})\n",
    "print(load_proba)"
   ]
  },
  {
   "cell_type": "markdown",
   "id": "fc8a8ff1",
   "metadata": {},
   "source": [
    "We can see the predicted class probabilities are still the same as above, which means same model!\n",
    "\n",
    "## Other Examples\n",
    "\n",
    "You may go to [AutoMM Examples](https://github.com/awslabs/autogluon/tree/master/examples/automm) to explore other examples about AutoMM.\n",
    "\n",
    "## Customization\n",
    "To learn how to customize AutoMM, please refer to :ref:`sec_automm_customization`."
   ]
  }
 ],
 "metadata": {},
 "nbformat": 4,
 "nbformat_minor": 5
}
