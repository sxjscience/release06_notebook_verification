{
 "cells": [
  {
   "cell_type": "markdown",
   "id": "e4abb3c6",
   "metadata": {},
   "source": [
    "# Knowledge Distillation in AutoMM\n",
    ":label:`sec_automm_distillation_multilingual`\n",
    "\n",
    "Pretrained foundation models are becoming increasingly large. However, these models are difficult to deploy due to \n",
    "limited resources available in deployment scenarios. To benefit from large models under this constraint, \n",
    "you transfer the knowledge from the large-scale teacher models to the student model, with knowledge distillation.\n",
    "In this way, the small student model can be practically deployed under real-world scenarios,\n",
    "while the performance will be better than training the student model from scratch thanks to the teacher.\n",
    "\n",
    "In this tutorial, we introduce how to adopt `MultiModalPredictor` for knowledge distillation. For the purpose of demonstration, we use the [Question-answering NLI](https://paperswithcode.com/dataset/qnli) dataset, \n",
    "which comprises 104,743 question, answer pairs sampled from question answering datasets. We will demonstrate how to use a large model to guide the learning and improve the performance of a small model in AutoGluon.\n",
    "\n",
    "## Load Dataset\n",
    "\n",
    "The [Question-answering NLI](https://paperswithcode.com/dataset/qnli) dataset contains \n",
    "sentence pairs in English. In the label column, `0` means that the sentence is not related to the question and `1` means that the sentence is related to the question."
   ]
  },
  {
   "cell_type": "code",
   "execution_count": null,
   "id": "8484eb49",
   "metadata": {},
   "outputs": [],
   "source": [
    "from datasets import load_dataset\n",
    "\n",
    "dataset = load_dataset(\"glue\", \"qnli\")"
   ]
  },
  {
   "cell_type": "code",
   "execution_count": null,
   "id": "9a021430",
   "metadata": {},
   "outputs": [],
   "source": [
    "dataset['train']"
   ]
  },
  {
   "cell_type": "code",
   "execution_count": null,
   "id": "98be7a1d",
   "metadata": {},
   "outputs": [],
   "source": [
    "from sklearn.model_selection import train_test_split\n",
    "\n",
    "train_valid_df = dataset[\"train\"].to_pandas()[[\"question\", \"sentence\", \"label\"]].sample(1000, random_state=123)\n",
    "train_df, valid_df = train_test_split(train_valid_df, test_size=0.2)\n",
    "test_df = dataset[\"validation\"].to_pandas()[[\"question\", \"sentence\", \"label\"]].sample(1000, random_state=123)"
   ]
  },
  {
   "cell_type": "markdown",
   "id": "a3eb8e6f",
   "metadata": {},
   "source": [
    "## Load the Teacher Model\n",
    "\n",
    "In our example, we will directly load a teacher model with the [google/bert_uncased_L-12_H-768_A-12](https://huggingface.co/google/bert_uncased_L-12_H-768_A-12) backbone that has been trained on QNLI and distill it into a student model with the [google/bert_uncased_L-6_H-768_A-12](https://huggingface.co/google/bert_uncased_L-6_H-768_A-12) backbone."
   ]
  },
  {
   "cell_type": "code",
   "execution_count": null,
   "id": "518cf420",
   "metadata": {},
   "outputs": [],
   "source": [
    "!wget --quiet https://automl-mm-bench.s3.amazonaws.com/unit-tests/distillation_sample_teacher.zip -O distillation_sample_teacher.zip\n",
    "!unzip -q -o distillation_sample_teacher.zip -d ."
   ]
  },
  {
   "cell_type": "code",
   "execution_count": null,
   "id": "17733ba7",
   "metadata": {},
   "outputs": [],
   "source": [
    "from autogluon.multimodal import MultiModalPredictor\n",
    "\n",
    "teacher_predictor = MultiModalPredictor.load(\"ag_distillation_sample_teacher/\")"
   ]
  },
  {
   "cell_type": "markdown",
   "id": "2fc541b9",
   "metadata": {},
   "source": [
    "## Distill to Student\n",
    "\n",
    "Training the student model is straight forward. You may just add the `teacher_predictor` argument when calling `.fit()`."
   ]
  },
  {
   "cell_type": "code",
   "execution_count": null,
   "id": "fe99e59e",
   "metadata": {},
   "outputs": [],
   "source": [
    "student_predictor = MultiModalPredictor(label=\"label\")\n",
    "student_predictor.fit(\n",
    "    train_df,\n",
    "    tuning_data=valid_df,\n",
    "    teacher_predictor=teacher_predictor,\n",
    "    hyperparameters={\n",
    "        \"model.hf_text.checkpoint_name\": \"google/bert_uncased_L-6_H-768_A-12\",\n",
    "        \"optimization.max_epochs\": 2,\n",
    "    }\n",
    ")"
   ]
  },
  {
   "cell_type": "code",
   "execution_count": null,
   "id": "bafa55d9",
   "metadata": {},
   "outputs": [],
   "source": [
    "print(student_predictor.evaluate(data=test_df))"
   ]
  },
  {
   "cell_type": "markdown",
   "id": "42936b3c",
   "metadata": {},
   "source": [
    "## Comparing with Direct Finetuning\n",
    "\n",
    "We then finetune a small model [mMiniLMv2](https://arxiv.org/abs/2012.15828) without distillation. \n",
    "We can still load the multilingual MiniLMv2 model from Huggingface/Transformers, \n",
    "with the key as [nreimers/mMiniLMv2-L6-H384-distilled-from-XLMR-Large](ahttps://huggingface.co/nreimers/mMiniLMv2-L6-H384-distilled-from-XLMR-Large). \n",
    "To simplify the experiment, we also just finetune for 4 epochs."
   ]
  },
  {
   "cell_type": "code",
   "execution_count": null,
   "id": "1013719d",
   "metadata": {},
   "outputs": [],
   "source": [
    "nodistill_predictor = MultiModalPredictor(label=\"label\")\n",
    "nodistill_predictor.fit(\n",
    "    train_df,\n",
    "    tuning_data=valid_df,\n",
    "    hyperparameters={\n",
    "        \"model.hf_text.checkpoint_name\": \"google/bert_uncased_L-6_H-768_A-12\",\n",
    "        \"optimization.max_epochs\": 2,\n",
    "    }\n",
    ")"
   ]
  },
  {
   "cell_type": "code",
   "execution_count": null,
   "id": "c24a0577",
   "metadata": {},
   "outputs": [],
   "source": [
    "print(nodistill_predictor.evaluate(data=test_df))"
   ]
  },
  {
   "cell_type": "markdown",
   "id": "3e55fb5a",
   "metadata": {},
   "source": [
    "We can find that via knowledge distillation, the performance of `student_predictor` is better than `nodistill_predictor`.\n",
    "\n",
    "## More about Knowledge Distillation\n",
    "\n",
    "To learn how to customize distillation, see the distillation examples \n",
    "and README in [AutoMM Distillation Examples](https://github.com/awslabs/autogluon/tree/master/examples/automm/distillation).\n",
    "Especially the [multilingual distillation example](https://github.com/awslabs/autogluon/tree/master/examples/automm/distillation/automm_distillation_pawsx.py) with more details and customization.\n",
    "\n",
    "## Other Examples\n",
    "\n",
    "You may go to [AutoMM Examples](https://github.com/awslabs/autogluon/tree/master/examples/automm) to explore other examples about AutoMM.\n",
    "\n",
    "## Customization\n",
    "To learn how to customize AutoMM, please refer to :ref:`sec_automm_customization`."
   ]
  }
 ],
 "metadata": {},
 "nbformat": 4,
 "nbformat_minor": 5
}
