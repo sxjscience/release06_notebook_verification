{
 "cells": [
  {
   "cell_type": "markdown",
   "id": "c29b20e2",
   "metadata": {},
   "source": [
    "# Customize AutoMM\n",
    "\n",
    ":label:`sec_automm_customization`\n",
    "\n",
    "AutoMM has a powerful yet easy-to-use configuration design.\n",
    "This tutorial walks you through various AutoMM configurations to empower you the customization flexibility. Specifically, AutoMM configurations consist of several parts:\n",
    "\n",
    "- optimization\n",
    "- environment\n",
    "- model\n",
    "- data\n",
    "- distiller\n",
    "\n",
    "## Optimization\n",
    "\n",
    "### optimization.learning_rate\n",
    "\n",
    "Learning rate."
   ]
  },
  {
   "cell_type": "code",
   "execution_count": null,
   "id": "d1107a97",
   "metadata": {},
   "outputs": [],
   "source": [
    "# default used by AutoMM\n",
    "predictor.fit(hyperparameters={\"optimization.learning_rate\": 1.0e-4})\n",
    "# set learning rate to 5.0e-4\n",
    "predictor.fit(hyperparameters={\"optimization.learning_rate\": 5.0e-4})"
   ]
  },
  {
   "cell_type": "markdown",
   "id": "36838d25",
   "metadata": {},
   "source": [
    "### optimization.optim_type\n",
    "\n",
    "Optimizer type.\n",
    "\n",
    "- `\"sgd\"`: stochastic gradient descent with momentum.\n",
    "- `\"adam\"`: a stochastic gradient descent method that is based on adaptive estimation of first-order and second-order moments. See [this paper](https://arxiv.org/abs/1412.6980) for details.\n",
    "- `\"adamw\"`: improves adam by decoupling the weight decay from the optimization step. See [this paper](https://arxiv.org/abs/1711.05101) for details."
   ]
  },
  {
   "cell_type": "code",
   "execution_count": null,
   "id": "c1539054",
   "metadata": {},
   "outputs": [],
   "source": [
    "# default used by AutoMM\n",
    "predictor.fit(hyperparameters={\"optimization.optim_type\": \"adamw\"})\n",
    "# use optimizer adam\n",
    "predictor.fit(hyperparameters={\"optimization.optim_type\": \"adam\"})"
   ]
  },
  {
   "cell_type": "markdown",
   "id": "1fd90570",
   "metadata": {},
   "source": [
    "### optimization.weight_decay\n",
    "\n",
    "Weight decay."
   ]
  },
  {
   "cell_type": "code",
   "execution_count": null,
   "id": "4fd486ec",
   "metadata": {},
   "outputs": [],
   "source": [
    "# default used by AutoMM\n",
    "predictor.fit(hyperparameters={\"optimization.weight_decay\": 1.0e-3})\n",
    "# set weight decay to 1.0e-4\n",
    "predictor.fit(hyperparameters={\"optimization.weight_decay\": 1.0e-4})"
   ]
  },
  {
   "cell_type": "markdown",
   "id": "3c9abe33",
   "metadata": {},
   "source": [
    "### optimization.lr_decay\n",
    "\n",
    "Later layers can have larger learning rates than the earlier layers. The last/head layer\n",
    "has the largest learning rate `optimization.learning_rate`. For a model with `n` layers, layer `i` has learning rate `optimization.learning_rate * optimization.lr_decay^(n-i)`. To use one uniform learning rate, simply set the learning rate decay to `1`."
   ]
  },
  {
   "cell_type": "code",
   "execution_count": null,
   "id": "5742b5d7",
   "metadata": {},
   "outputs": [],
   "source": [
    "# default used by AutoMM\n",
    "predictor.fit(hyperparameters={\"optimization.lr_decay\": 0.9})\n",
    "# turn off learning rate decay\n",
    "predictor.fit(hyperparameters={\"optimization.lr_decay\": 1})"
   ]
  },
  {
   "cell_type": "markdown",
   "id": "366fb97c",
   "metadata": {},
   "source": [
    "### optimization.lr_mult\n",
    "\n",
    "While we are using two_stages lr choice,\n",
    "The last/head layer has the largest learning rate `optimization.learning_rate` * `optimization.lr_mult`.\n",
    "And other layers has normal learning rate `optimization.learning_rate`.\n",
    "To use one uniform learning rate, simply set the learning rate multiple to `1`."
   ]
  },
  {
   "cell_type": "code",
   "execution_count": null,
   "id": "386a15d7",
   "metadata": {},
   "outputs": [],
   "source": [
    "# default used by AutoMM\n",
    "predictor.fit(hyperparameters={\"optimization.lr_mult\": 1})\n",
    "# turn on two-stage lr for 10 times learning rate in head layer\n",
    "predictor.fit(hyperparameters={\"optimization.lr_mult\": 10})"
   ]
  },
  {
   "cell_type": "markdown",
   "id": "e34c7c13",
   "metadata": {},
   "source": [
    "### optimization.lr_choice\n",
    "\n",
    "We may want different layers to have different lr,\n",
    "here we have strategy `two_stages` lr choice (see `optimization.lr_mult` section for more details),\n",
    "or `layerwise_decay` lr choice (see `optimization.lr_decay` section for more details).\n",
    "To use one uniform learning rate, simply set this to `\"\"`."
   ]
  },
  {
   "cell_type": "code",
   "execution_count": null,
   "id": "32b46246",
   "metadata": {},
   "outputs": [],
   "source": [
    "# default used by AutoMM\n",
    "predictor.fit(hyperparameters={\"optimization.lr_choice\": \"layerwise_decay\"})\n",
    "# turn on two-stage lr choice\n",
    "predictor.fit(hyperparameters={\"optimization.lr_choice\": \"two_stages\"})"
   ]
  },
  {
   "cell_type": "markdown",
   "id": "3cc4ce16",
   "metadata": {},
   "source": [
    "### optimization.lr_schedule\n",
    "\n",
    "Learning rate schedule.\n",
    "\n",
    "- `\"cosine_decay\"`: the decay of learning rate follows the cosine curve.\n",
    "- `\"polynomial_decay\"`: the learning rate is decayed based on polynomial functions.\n",
    "- `\"linear_decay\"`: linearly decays the learing rate."
   ]
  },
  {
   "cell_type": "code",
   "execution_count": null,
   "id": "1639cfe1",
   "metadata": {},
   "outputs": [],
   "source": [
    "# default used by AutoMM\n",
    "predictor.fit(hyperparameters={\"optimization.lr_schedule\": \"cosine_decay\"})\n",
    "# use polynomial decay\n",
    "predictor.fit(hyperparameters={\"optimization.lr_schedule\": \"polynomial_decay\"})"
   ]
  },
  {
   "cell_type": "markdown",
   "id": "d243ea54",
   "metadata": {},
   "source": [
    "### optimization.max_epochs\n",
    "\n",
    "Stop training once this number of epochs is reached."
   ]
  },
  {
   "cell_type": "code",
   "execution_count": null,
   "id": "0ff791b8",
   "metadata": {},
   "outputs": [],
   "source": [
    "# default used by AutoMM\n",
    "predictor.fit(hyperparameters={\"optimization.max_epochs\": 10})\n",
    "# train 20 epochs\n",
    "predictor.fit(hyperparameters={\"optimization.max_epochs\": 20})"
   ]
  },
  {
   "cell_type": "markdown",
   "id": "e5fa34ed",
   "metadata": {},
   "source": [
    "### optimization.max_steps\n",
    "\n",
    "Stop training after this number of steps. Training will stop if `optimization.max_steps` or `optimization.max_epochs` have reached (earliest).\n",
    "By default, we disable `optimization.max_steps` by setting it to -1."
   ]
  },
  {
   "cell_type": "code",
   "execution_count": null,
   "id": "70dfcbcf",
   "metadata": {},
   "outputs": [],
   "source": [
    "# default used by AutoMM\n",
    "predictor.fit(hyperparameters={\"optimization.max_steps\": -1})\n",
    "# train 100 steps\n",
    "predictor.fit(hyperparameters={\"optimization.max_steps\": 100})"
   ]
  },
  {
   "cell_type": "markdown",
   "id": "6fa5d6d8",
   "metadata": {},
   "source": [
    "### optimization.warmup_steps\n",
    "\n",
    "Warm up the learning rate from 0 to `optimization.learning_rate` within this percentage of steps at the beginning of training."
   ]
  },
  {
   "cell_type": "code",
   "execution_count": null,
   "id": "e985b0e0",
   "metadata": {},
   "outputs": [],
   "source": [
    "# default used by AutoMM\n",
    "predictor.fit(hyperparameters={\"optimization.warmup_steps\": 0.1})\n",
    "# do learning rate warmup in the first 20% steps.\n",
    "predictor.fit(hyperparameters={\"optimization.warmup_steps\": 0.2})"
   ]
  },
  {
   "cell_type": "markdown",
   "id": "9bea6bc6",
   "metadata": {},
   "source": [
    "### optimization.patience\n",
    "\n",
    "Stop training after this number of checks with no improvement. The check frequency is controlled by `optimization.val_check_interval`."
   ]
  },
  {
   "cell_type": "code",
   "execution_count": null,
   "id": "726a8bd2",
   "metadata": {},
   "outputs": [],
   "source": [
    "# default used by AutoMM\n",
    "predictor.fit(hyperparameters={\"optimization.patience\": 10})\n",
    "# set patience to 5 checks\n",
    "predictor.fit(hyperparameters={\"optimization.patience\": 5})"
   ]
  },
  {
   "cell_type": "markdown",
   "id": "e58af033",
   "metadata": {},
   "source": [
    "### optimization.val_check_interval\n",
    "\n",
    "How often within one training epoch to check the validation set. Can specify as float or int.\n",
    "\n",
    "- pass a float in the range [0.0, 1.0] to check after a fraction of the training epoch.\n",
    "- pass an int to check after a fixed number of training batches."
   ]
  },
  {
   "cell_type": "code",
   "execution_count": null,
   "id": "578ed574",
   "metadata": {},
   "outputs": [],
   "source": [
    "# default used by AutoMM\n",
    "predictor.fit(hyperparameters={\"optimization.val_check_interval\": 0.5})\n",
    "# check validation set 4 times during a training epoch\n",
    "predictor.fit(hyperparameters={\"optimization.val_check_interval\": 0.25})"
   ]
  },
  {
   "cell_type": "markdown",
   "id": "924ebb9c",
   "metadata": {},
   "source": [
    "### optimization.gradient_clip_algorithm\n",
    "\n",
    "The gradient clipping algorithm to use. Support to clip gradients by value or norm."
   ]
  },
  {
   "cell_type": "code",
   "execution_count": null,
   "id": "e51cc97b",
   "metadata": {},
   "outputs": [],
   "source": [
    "# default used by AutoMM\n",
    "predictor.fit(hyperparameters={\"optimization.gradient_clip_algorithm\": \"norm\"})\n",
    "# clip gradients by value\n",
    "predictor.fit(hyperparameters={\"optimization.gradient_clip_algorithm\": \"value\"})"
   ]
  },
  {
   "cell_type": "markdown",
   "id": "bb9a5106",
   "metadata": {},
   "source": [
    "### optimization.gradient_clip_val\n",
    "\n",
    "Gradient clipping value, which can be the absolute value or gradient norm depending on the choice of `optimization.gradient_clip_algorithm`."
   ]
  },
  {
   "cell_type": "code",
   "execution_count": null,
   "id": "adf3db1c",
   "metadata": {},
   "outputs": [],
   "source": [
    "# default used by AutoMM\n",
    "predictor.fit(hyperparameters={\"optimization.gradient_clip_val\": 1})\n",
    "# cap the gradients to 5\n",
    "predictor.fit(hyperparameters={\"optimization.gradient_clip_val\": 5})"
   ]
  },
  {
   "cell_type": "markdown",
   "id": "c0231a9f",
   "metadata": {},
   "source": [
    "### optimization.track_grad_norm\n",
    "\n",
    "Track the p-norm of gradients during training. May be set to ‘inf’ infinity-norm. If using Automatic Mixed Precision (AMP), the gradients will be unscaled before logging them."
   ]
  },
  {
   "cell_type": "code",
   "execution_count": null,
   "id": "c05b57b2",
   "metadata": {},
   "outputs": [],
   "source": [
    "# default used by AutoMM (no tracking)\n",
    "predictor.fit(hyperparameters={\"optimization.track_grad_norm\": -1})\n",
    "# track the 2-norm\n",
    "predictor.fit(hyperparameters={\"optimization.track_grad_norm\": 2})"
   ]
  },
  {
   "cell_type": "markdown",
   "id": "ca9fe760",
   "metadata": {},
   "source": [
    "### optimization.log_every_n_steps\n",
    "\n",
    "How often to log within steps."
   ]
  },
  {
   "cell_type": "code",
   "execution_count": null,
   "id": "52fa1434",
   "metadata": {},
   "outputs": [],
   "source": [
    "# default used by AutoMM\n",
    "predictor.fit(hyperparameters={\"optimization.log_every_n_steps\": 10})\n",
    "# log once every 50 steps\n",
    "predictor.fit(hyperparameters={\"optimization.log_every_n_steps\": 50})"
   ]
  },
  {
   "cell_type": "markdown",
   "id": "a08835f8",
   "metadata": {},
   "source": [
    "### optimization.top_k\n",
    "\n",
    "Based on the validation score, choose top k model checkpoints to do model averaging."
   ]
  },
  {
   "cell_type": "code",
   "execution_count": null,
   "id": "0c67a359",
   "metadata": {},
   "outputs": [],
   "source": [
    "# default used by AutoMM\n",
    "predictor.fit(hyperparameters={\"optimization.top_k\": 3})\n",
    "# use top 5 checkpoints\n",
    "predictor.fit(hyperparameters={\"optimization.top_k\": 5})"
   ]
  },
  {
   "cell_type": "markdown",
   "id": "b7ae9d7e",
   "metadata": {},
   "source": [
    "### optimization.top_k_average_method\n",
    "\n",
    "Use what strategy to average the top k model checkpoints.\n",
    "\n",
    "- `\"greedy_soup\"`: tries to add the checkpoints from best to worst into the averaging pool and stop if the averaged checkpoint performance decreases. See [the paper](https://arxiv.org/pdf/2203.05482.pdf) for details.\n",
    "- `\"uniform_soup\"`: averages all the top k checkpoints as the final checkpoint.\n",
    "- `\"best\"`: picks the checkpoint with the best validation performance."
   ]
  },
  {
   "cell_type": "code",
   "execution_count": null,
   "id": "071c92d8",
   "metadata": {},
   "outputs": [],
   "source": [
    "# default used by AutoMM\n",
    "predictor.fit(hyperparameters={\"optimization.top_k_average_method\": \"greedy_soup\"})\n",
    "# average all the top k checkpoints\n",
    "predictor.fit(hyperparameters={\"optimization.top_k_average_method\": \"uniform_soup\"})"
   ]
  },
  {
   "cell_type": "markdown",
   "id": "e4b0f24a",
   "metadata": {},
   "source": [
    "### optimization.efficient_finetune\n",
    "\n",
    "Options for parameter-efficient finetuning. Parameter-efficient finetuning means to finetune only a small portion of parameters instead of the whole pretrained backbone.\n",
    "\n",
    "- `\"bit_fit\"`: bias parameters only. See [this paper](https://arxiv.org/pdf/2106.10199.pdf) for details.\n",
    "- `\"norm_fit\"`: normalization parameters + bias parameters. See [this paper](https://arxiv.org/pdf/2003.00152.pdf) for details.\n",
    "- `\"lora\"`: LoRA Adaptors. See [this paper](https://arxiv.org/pdf/2106.09685.pdf) for details.\n",
    "- `\"lora_bias\"`: LoRA Adaptors + bias parameters.\n",
    "- `\"lora_norm\"`: LoRA Adaptors + normalization parameters + bias parameters.\n",
    "- `\"ia3\"`: IA3 algorithm. See [this paper](https://arxiv.org/abs/2205.05638) for details.\n",
    "- `\"ia3_bias\"`: IA3 + bias parameters.\n",
    "- `\"ia3_norm\"`: IA3 + normalization parameters + bias parameters."
   ]
  },
  {
   "cell_type": "code",
   "execution_count": null,
   "id": "74bc951a",
   "metadata": {},
   "outputs": [],
   "source": [
    "# default used by AutoMM\n",
    "predictor.fit(hyperparameters={\"optimization.efficient_finetune\": None})\n",
    "# finetune only bias parameters\n",
    "predictor.fit(hyperparameters={\"optimization.efficient_finetune\": \"bit_fit\"})\n",
    "# finetune with IA3 + BitFit\n",
    "predictor.fit(hyperparameters={\"optimization.efficient_finetune\": \"ia3_bias\"})"
   ]
  },
  {
   "cell_type": "markdown",
   "id": "f5020e10",
   "metadata": {},
   "source": [
    "## Environment\n",
    "\n",
    "### env.num_gpus\n",
    "\n",
    "The number of gpus to use. If given -1, we count the GPUs by `env.num_gpus = torch.cuda.device_count()`."
   ]
  },
  {
   "cell_type": "code",
   "execution_count": null,
   "id": "f13d0f6f",
   "metadata": {},
   "outputs": [],
   "source": [
    "# by default, all available gpus are used by AutoMM\n",
    "predictor.fit(hyperparameters={\"env.num_gpus\": -1})\n",
    "# use 1 gpu only\n",
    "predictor.fit(hyperparameters={\"env.num_gpus\": 1})"
   ]
  },
  {
   "cell_type": "markdown",
   "id": "c31ec942",
   "metadata": {},
   "source": [
    "### env.per_gpu_batch_size\n",
    "\n",
    "The batch size for each GPU."
   ]
  },
  {
   "cell_type": "code",
   "execution_count": null,
   "id": "73e9ff18",
   "metadata": {},
   "outputs": [],
   "source": [
    "# default used by AutoMM\n",
    "predictor.fit(hyperparameters={\"env.per_gpu_batch_size\": 8})\n",
    "# use batch size 16 per GPU\n",
    "predictor.fit(hyperparameters={\"env.per_gpu_batch_size\": 16})"
   ]
  },
  {
   "cell_type": "markdown",
   "id": "5d6243c7",
   "metadata": {},
   "source": [
    "### env.batch_size\n",
    "\n",
    "The batch size to use in each step of training. If `env.batch_size` is larger than `env.per_gpu_batch_size * env.num_gpus`, we accumulate gradients to reach the effective `env.batch_size` before performing one optimization step. The accumulation steps are calculated by `env.batch_size // (env.per_gpu_batch_size * env.num_gpus)`."
   ]
  },
  {
   "cell_type": "code",
   "execution_count": null,
   "id": "e8913842",
   "metadata": {},
   "outputs": [],
   "source": [
    "# default used by AutoMM\n",
    "predictor.fit(hyperparameters={\"env.batch_size\": 128})\n",
    "# use batch size 256\n",
    "predictor.fit(hyperparameters={\"env.batch_size\": 256})"
   ]
  },
  {
   "cell_type": "markdown",
   "id": "7dde3b3a",
   "metadata": {},
   "source": [
    "### env.eval_batch_size_ratio\n",
    "\n",
    "Prediction or evaluation uses a larger per gpu batch size `env.per_gpu_batch_size * env.eval_batch_size_ratio`."
   ]
  },
  {
   "cell_type": "code",
   "execution_count": null,
   "id": "bf63896e",
   "metadata": {},
   "outputs": [],
   "source": [
    "# default used by AutoMM\n",
    "predictor.fit(hyperparameters={\"env.eval_batch_size_ratio\": 4})\n",
    "# use 2x per gpu batch size during prediction or evaluation\n",
    "predictor.fit(hyperparameters={\"env.eval_batch_size_ratio\": 2})"
   ]
  },
  {
   "cell_type": "markdown",
   "id": "70e61bda",
   "metadata": {},
   "source": [
    "### env.precision\n",
    "\n",
    "Support either double (`64`), float (`32`), bfloat16 (`\"bf16\"`), or half (`16`) precision training.\n",
    "\n",
    "Half precision, or mixed precision, is the combined use of 32 and 16 bit floating points to reduce memory footprint during model training. This can result in improved performance, achieving +3x speedups on modern GPUs."
   ]
  },
  {
   "cell_type": "code",
   "execution_count": null,
   "id": "be1d625a",
   "metadata": {},
   "outputs": [],
   "source": [
    "# default used by AutoMM\n",
    "predictor.fit(hyperparameters={\"env.precision\": 16})\n",
    "# use bfloat16\n",
    "predictor.fit(hyperparameters={\"env.precision\": \"bf16\"})"
   ]
  },
  {
   "cell_type": "markdown",
   "id": "0911f6bb",
   "metadata": {},
   "source": [
    "### env.num_workers\n",
    "\n",
    "The number of worker processes used by the Pytorch dataloader in training. Note that more workers don't always bring speedup especially when `env.strategy = \"ddp_spawn\"`.\n",
    "For more details, see the guideline [here](https://pytorch-lightning.readthedocs.io/en/stable/accelerators/gpu.html#distributed-data-parallel)."
   ]
  },
  {
   "cell_type": "code",
   "execution_count": null,
   "id": "2e8bd46e",
   "metadata": {},
   "outputs": [],
   "source": [
    "# default used by AutoMM\n",
    "predictor.fit(hyperparameters={\"env.num_workers\": 2})\n",
    "# use 4 workers in the training dataloader\n",
    "predictor.fit(hyperparameters={\"env.num_workers\": 4})"
   ]
  },
  {
   "cell_type": "markdown",
   "id": "38ccab54",
   "metadata": {},
   "source": [
    "### env.auto_select_gpus\n",
    "\n",
    "If enabled and devices is an integer, pick available GPUs automatically. This is especially useful when GPUs are configured to be in “exclusive mode”, such that only one process at a time can access them.\n",
    "For more details, see the guideline [here](https://pytorch-lightning.readthedocs.io/en/stable/common/trainer.html)."
   ]
  },
  {
   "cell_type": "code",
   "execution_count": null,
   "id": "252c9835",
   "metadata": {},
   "outputs": [],
   "source": [
    "# default used by AutoMM\n",
    "predictor.fit(hyperparameters={\"env.auto_select_gpus\": True})\n",
    "# disable auto select gpus\n",
    "predictor.fit(hyperparameters={\"env.auto_select_gpus\": False})"
   ]
  },
  {
   "cell_type": "markdown",
   "id": "e7d41ce6",
   "metadata": {},
   "source": [
    "### env.num_workers_evaluation\n",
    "\n",
    "The number of worker processes used by the Pytorch dataloader in prediction or evaluation."
   ]
  },
  {
   "cell_type": "code",
   "execution_count": null,
   "id": "cc76bcc3",
   "metadata": {},
   "outputs": [],
   "source": [
    "# default used by AutoMM\n",
    "predictor.fit(hyperparameters={\"env.num_workers_evaluation\": 2})\n",
    "# use 4 workers in the prediction/evaluation dataloader\n",
    "predictor.fit(hyperparameters={\"env.num_workers_evaluation\": 4})"
   ]
  },
  {
   "cell_type": "markdown",
   "id": "0a1c79c0",
   "metadata": {},
   "source": [
    "### env.strategy\n",
    "\n",
    "Distributed training mode.\n",
    "\n",
    "- `\"dp\"`: data parallel.\n",
    "- `\"ddp\"`: distributed data parallel (python script based).\n",
    "- `\"ddp_spawn\"`: distributed data parallel (spawn based).\n",
    "\n",
    "See [here](https://pytorch-lightning.readthedocs.io/en/stable/accelerators/gpu.html#distributed-modes) for more details."
   ]
  },
  {
   "cell_type": "code",
   "execution_count": null,
   "id": "920ff76b",
   "metadata": {},
   "outputs": [],
   "source": [
    "# default used by AutoMM\n",
    "predictor.fit(hyperparameters={\"env.strategy\": \"ddp_spawn\"})\n",
    "# use ddp during training\n",
    "predictor.fit(hyperparameters={\"env.strategy\": \"ddp\"})"
   ]
  },
  {
   "cell_type": "markdown",
   "id": "4937db13",
   "metadata": {},
   "source": [
    "## Model\n",
    "\n",
    "### model.names\n",
    "\n",
    "Choose what types of models to use.\n",
    "\n",
    "- `\"hf_text\"`: the pretrained text models from [Huggingface](https://huggingface.co/).\n",
    "- `\"timm_image\"`: the pretrained image models from [TIMM](https://github.com/rwightman/pytorch-image-models/tree/master/timm/models).\n",
    "- `\"clip\"`: the pretrained CLIP models.\n",
    "- `\"categorical_mlp\"`: MLP for categorical data.\n",
    "- `\"numerical_mlp\"`: MLP for numerical data.\n",
    "- `\"categorical_transformer\"`: [FT-Transformer](https://arxiv.org/pdf/2106.11959.pdf) for categorical data.\n",
    "- `\"numerical_transformer\"`: [FT-Transformer](https://arxiv.org/pdf/2106.11959.pdf) for numerical data.\n",
    "- `\"fusion_mlp\"`: MLP-based fusion for features from multiple backbones.\n",
    "- `\"fusion_transformer\"`: transformer-based fusion for features from multiple backbones.\n",
    "\n",
    "If no data of one modality is detected, the related model types will be automatically removed in training."
   ]
  },
  {
   "cell_type": "code",
   "execution_count": null,
   "id": "21654965",
   "metadata": {},
   "outputs": [],
   "source": [
    "# default used by AutoMM\n",
    "predictor.fit(hyperparameters={\"model.names\": [\"hf_text\", \"timm_image\", \"clip\", \"categorical_mlp\", \"numerical_mlp\", \"fusion_mlp\"]})\n",
    "# use only text models\n",
    "predictor.fit(hyperparameters={\"model.names\": [\"hf_text\"]})\n",
    "# use only image models\n",
    "predictor.fit(hyperparameters={\"model.names\": [\"timm_image\"]})\n",
    "# use only clip models\n",
    "predictor.fit(hyperparameters={\"model.names\": [\"clip\"]})"
   ]
  },
  {
   "cell_type": "markdown",
   "id": "988feb18",
   "metadata": {},
   "source": [
    "### model.hf_text.checkpoint_name\n",
    "\n",
    "Specify a text backbone supported by the Hugginface [AutoModel](https://huggingface.co/transformers/v3.0.2/model_doc/auto.html#automodel)."
   ]
  },
  {
   "cell_type": "code",
   "execution_count": null,
   "id": "09ce29b8",
   "metadata": {},
   "outputs": [],
   "source": [
    "# default used by AutoMM\n",
    "predictor.fit(hyperparameters={\"model.hf_text.checkpoint_name\": \"google/electra-base-discriminator\"})\n",
    "# choose roberta base\n",
    "predictor.fit(hyperparameters={\"model.hf_text.checkpoint_name\": \"roberta-base\"})"
   ]
  },
  {
   "cell_type": "markdown",
   "id": "efe51da8",
   "metadata": {},
   "source": [
    "### model.hf_text.pooling_mode\n",
    "\n",
    "The feature pooling mode for transformer architectures.\n",
    "\n",
    "- `cls`: uses the cls feature vector to represent a sentence.\n",
    "- `mean`: averages all the token feature vectors to represent a sentence."
   ]
  },
  {
   "cell_type": "code",
   "execution_count": null,
   "id": "1dcc87b0",
   "metadata": {},
   "outputs": [],
   "source": [
    "# default used by AutoMM\n",
    "predictor.fit(hyperparameters={\"model.hf_text.pooling_mode\": \"cls\"})\n",
    "# using the mean pooling\n",
    "predictor.fit(hyperparameters={\"model.hf_text.pooling_mode\": \"mean\"})"
   ]
  },
  {
   "cell_type": "markdown",
   "id": "fdd6fef1",
   "metadata": {},
   "source": [
    "### model.hf_text.tokenizer_name\n",
    "\n",
    "Choose the text tokenizer. It is recommended to use the default auto tokenizer.\n",
    "\n",
    "- `hf_auto`: the [Huggingface auto tokenizer](https://huggingface.co/docs/transformers/model_doc/auto#transformers.AutoTokenizer).\n",
    "- `bert`: the [BERT tokenizer](https://huggingface.co/docs/transformers/v4.21.1/en/model_doc/bert#transformers.BertTokenizer).\n",
    "- `electra`: the [ELECTRA tokenizer](https://huggingface.co/docs/transformers/v4.21.1/en/model_doc/electra#transformers.ElectraTokenizer).\n",
    "- `clip`: the [CLIP tokenizer](https://huggingface.co/docs/transformers/v4.21.1/en/model_doc/clip#transformers.CLIPTokenizer)."
   ]
  },
  {
   "cell_type": "code",
   "execution_count": null,
   "id": "5bcce856",
   "metadata": {},
   "outputs": [],
   "source": [
    "# default used by AutoMM\n",
    "predictor.fit(hyperparameters={\"model.hf_text.tokenizer_name\": \"hf_auto\"})\n",
    "# using the tokenizer of the ELECTRA model\n",
    "predictor.fit(hyperparameters={\"model.hf_text.tokenizer_name\": \"electra\"})"
   ]
  },
  {
   "cell_type": "markdown",
   "id": "c80d4fea",
   "metadata": {},
   "source": [
    "### model.hf_text.max_text_len\n",
    "\n",
    "Set the maximum text length. Different models may allow different maximum lengths. If `model.hf_text.max_text_len` > 0, we choose the minimum between `model.hf_text.max_text_len` and the maximum length allowed by the model. Setting `model.hf_text.max_text_len` <= 0 would use the model's maximum length."
   ]
  },
  {
   "cell_type": "code",
   "execution_count": null,
   "id": "53520ab1",
   "metadata": {},
   "outputs": [],
   "source": [
    "# default used by AutoMM\n",
    "predictor.fit(hyperparameters={\"model.hf_text.max_text_len\": 512})\n",
    "# set to use the length allowed by the tokenizer.\n",
    "predictor.fit(hyperparameters={\"model.hf_text.max_text_len\": -1})"
   ]
  },
  {
   "cell_type": "markdown",
   "id": "c08449c2",
   "metadata": {},
   "source": [
    "### model.hf_text.insert_sep\n",
    "\n",
    "Whether to insert the SEP token between texts from different columns of a dataframe."
   ]
  },
  {
   "cell_type": "code",
   "execution_count": null,
   "id": "374a4301",
   "metadata": {},
   "outputs": [],
   "source": [
    "# default used by AutoMM\n",
    "predictor.fit(hyperparameters={\"model.hf_text.insert_sep\": True})\n",
    "# use no SEP token.\n",
    "predictor.fit(hyperparameters={\"model.hf_text.insert_sep\": False})"
   ]
  },
  {
   "cell_type": "markdown",
   "id": "16f7eb12",
   "metadata": {},
   "source": [
    "### model.hf_text.text_segment_num\n",
    "\n",
    "How many text segments are used in a token sequence. Each text segment has one [token type ID](https://huggingface.co/transformers/v2.11.0/glossary.html#token-type-ids). We choose the minimum between `model.hf_text.text_segment_num` and the default used by the model."
   ]
  },
  {
   "cell_type": "code",
   "execution_count": null,
   "id": "95e99a0a",
   "metadata": {},
   "outputs": [],
   "source": [
    "# default used by AutoMM\n",
    "predictor.fit(hyperparameters={\"model.hf_text.text_segment_num\": 2})\n",
    "# use 1 text segment\n",
    "predictor.fit(hyperparameters={\"model.hf_text.text_segment_num\": 1})"
   ]
  },
  {
   "cell_type": "markdown",
   "id": "37f44198",
   "metadata": {},
   "source": [
    "### model.hf_text.stochastic_chunk\n",
    "\n",
    "Whether to randomly cut a text chunk if a sample's text token number is larger than `model.hf_text.max_text_len`. If False, cut a token sequence from index 0 to the maximum allowed length. Otherwise, randomly sample a start index to cut a text chunk."
   ]
  },
  {
   "cell_type": "code",
   "execution_count": null,
   "id": "fb3e84e3",
   "metadata": {},
   "outputs": [],
   "source": [
    "# default used by AutoMM\n",
    "predictor.fit(hyperparameters={\"model.hf_text.stochastic_chunk\": False})\n",
    "# select a stochastic text chunk if a text sequence is over-long\n",
    "predictor.fit(hyperparameters={\"model.hf_text.stochastic_chunk\": True})"
   ]
  },
  {
   "cell_type": "markdown",
   "id": "891bf650",
   "metadata": {},
   "source": [
    "### model.hf_text.text_aug_detect_length\n",
    "\n",
    "Perform text augmentation only when the text token number is no less than `model.hf_text.text_aug_detect_length`."
   ]
  },
  {
   "cell_type": "code",
   "execution_count": null,
   "id": "332a10ee",
   "metadata": {},
   "outputs": [],
   "source": [
    "# default used by AutoMM\n",
    "predictor.fit(hyperparameters={\"model.hf_text.text_aug_detect_length\": 10})\n",
    "# Allow text augmentation for texts whose token number is no less than 5\n",
    "predictor.fit(hyperparameters={\"model.hf_text.text_aug_detect_length\": 5})"
   ]
  },
  {
   "cell_type": "markdown",
   "id": "b89ce6da",
   "metadata": {},
   "source": [
    "### model.hf_text.text_trivial_aug_maxscale\n",
    "\n",
    "Set the maximum percentage of text tokens to conduct data augmentation. For each text token sequence, we randomly sample a percentage in [0, `model.hf_text.text_trivial_aug_maxscale`] and one operation from four trivial augmentations, including synonym replacement, random word swap, random word deletion, and random punctuation insertion, to do text augmentation."
   ]
  },
  {
   "cell_type": "code",
   "execution_count": null,
   "id": "acf6d4a4",
   "metadata": {},
   "outputs": [],
   "source": [
    "# by default, AutoMM doesn't do text augmentation\n",
    "predictor.fit(hyperparameters={\"model.hf_text.text_trivial_aug_maxscale\": 0})\n",
    "# Enable trivial augmentation by setting the max scale to 0.1\n",
    "predictor.fit(hyperparameters={\"model.hf_text.text_trivial_aug_maxscale\": 0.1})"
   ]
  },
  {
   "cell_type": "markdown",
   "id": "ea875336",
   "metadata": {},
   "source": [
    "### model.hf_text.gradient_checkpointing\n",
    "\n",
    "Whether to turn on gradient checkpointing to reduce the memory consumption for calculating gradients. For more about gradient checkpointing, feel free to refer to [relevant tutorials](https://github.com/cybertronai/gradient-checkpointing)."
   ]
  },
  {
   "cell_type": "code",
   "execution_count": null,
   "id": "c98c8f4c",
   "metadata": {},
   "outputs": [],
   "source": [
    "# by default, AutoMM doesn't turn on gradient checkpointing\n",
    "predictor.fit(hyperparameters={\"model.hf_text.gradient_checkpointing\": False})\n",
    "# Turn on gradient checkpointing\n",
    "predictor.fit(hyperparameters={\"model.hf_text.gradient_checkpointing\": True})"
   ]
  },
  {
   "cell_type": "markdown",
   "id": "3f477d99",
   "metadata": {},
   "source": [
    "### model.timm_image.checkpoint_name\n",
    "\n",
    "Select an image backbone from [TIMM](https://github.com/rwightman/pytorch-image-models/tree/master/timm/models)."
   ]
  },
  {
   "cell_type": "code",
   "execution_count": null,
   "id": "cc2a6e81",
   "metadata": {},
   "outputs": [],
   "source": [
    "# default used by AutoMM\n",
    "predictor.fit(hyperparameters={\"model.timm_image.checkpoint_name\": \"swin_base_patch4_window7_224\"})\n",
    "# choose a vit base\n",
    "predictor.fit(hyperparameters={\"model.timm_image.checkpoint_name\": \"vit_base_patch32_224\"})"
   ]
  },
  {
   "cell_type": "markdown",
   "id": "1016b5f8",
   "metadata": {},
   "source": [
    "## Data\n",
    "\n",
    "### data.image.missing_value_strategy\n",
    "\n",
    "How to deal with missing images, opening which fails.\n",
    "\n",
    "- `\"skip\"`: skip a sample with missing images.\n",
    "- `\"zero\"`: use zero image to replace a missing image."
   ]
  },
  {
   "cell_type": "code",
   "execution_count": null,
   "id": "33e7276c",
   "metadata": {},
   "outputs": [],
   "source": [
    "# default used by AutoMM\n",
    "predictor.fit(hyperparameters={\"data.image.missing_value_strategy\": \"skip\"})\n",
    "# use zero image\n",
    "predictor.fit(hyperparameters={\"data.image.missing_value_strategy\": \"zero\"})"
   ]
  },
  {
   "cell_type": "markdown",
   "id": "87a26fef",
   "metadata": {},
   "source": [
    "### data.text.normalize_text\n",
    "Whether to normalize text with encoding problems. If True, TextProcessor will run through a series of encoding and decoding for text normalization. Please refer to the [Example](https://github.com/awslabs/autogluon/tree/master/examples/automm/kaggle_feedback_prize) of Kaggle competition for applying text normalization."
   ]
  },
  {
   "cell_type": "code",
   "execution_count": null,
   "id": "d0d12ca6",
   "metadata": {},
   "outputs": [],
   "source": [
    "# default used by AutoMM\n",
    "predictor.fit(hyperparameters={\"data.text.normalize_text\": False})\n",
    "# turn on text normalization\n",
    "predictor.fit(hyperparameters={\"data.text.normalize_text\": True})"
   ]
  },
  {
   "cell_type": "markdown",
   "id": "4d6341a8",
   "metadata": {},
   "source": [
    "### data.categorical.convert_to_text\n",
    "\n",
    "Whether to treat categorical data as text. If True, no categorical models, e.g., `\"categorical_mlp\"` and `\"categorical_transformer\"`, would be used."
   ]
  },
  {
   "cell_type": "code",
   "execution_count": null,
   "id": "6e4938c2",
   "metadata": {},
   "outputs": [],
   "source": [
    "# default used by AutoMM\n",
    "predictor.fit(hyperparameters={\"data.categorical.convert_to_text\": True})\n",
    "# turn off the conversion\n",
    "predictor.fit(hyperparameters={\"data.categorical.convert_to_text\": False})"
   ]
  },
  {
   "cell_type": "markdown",
   "id": "1a7c4dc2",
   "metadata": {},
   "source": [
    "### data.numerical.convert_to_text\n",
    "\n",
    "Whether to convert numerical data to text. If True, no numerical models e.g., `\"numerical_mlp\"` and `\"numerical_transformer\"`, would be used."
   ]
  },
  {
   "cell_type": "code",
   "execution_count": null,
   "id": "4a1556c8",
   "metadata": {},
   "outputs": [],
   "source": [
    "# default used by AutoMM\n",
    "predictor.fit(hyperparameters={\"data.numerical.convert_to_text\": False})\n",
    "# turn on the conversion\n",
    "predictor.fit(hyperparameters={\"data.numerical.convert_to_text\": True})"
   ]
  },
  {
   "cell_type": "markdown",
   "id": "08bdae8b",
   "metadata": {},
   "source": [
    "### data.numerical.scaler_with_mean\n",
    "\n",
    "If True, center the numerical data (not including the numerical labels) before scaling."
   ]
  },
  {
   "cell_type": "code",
   "execution_count": null,
   "id": "a96c8b13",
   "metadata": {},
   "outputs": [],
   "source": [
    "# default used by AutoMM\n",
    "predictor.fit(hyperparameters={\"data.numerical.scaler_with_mean\": True})\n",
    "# turn off centering\n",
    "predictor.fit(hyperparameters={\"data.numerical.scaler_with_mean\": False})"
   ]
  },
  {
   "cell_type": "markdown",
   "id": "806d884e",
   "metadata": {},
   "source": [
    "### data.numerical.scaler_with_std\n",
    "\n",
    "If True, scale the numerical data (not including the numerical labels) to unit variance."
   ]
  },
  {
   "cell_type": "code",
   "execution_count": null,
   "id": "50520771",
   "metadata": {},
   "outputs": [],
   "source": [
    "# default used by AutoMM\n",
    "predictor.fit(hyperparameters={\"data.numerical.scaler_with_std\": True})\n",
    "# turn off scaling\n",
    "predictor.fit(hyperparameters={\"data.numerical.scaler_with_std\": False})"
   ]
  },
  {
   "cell_type": "markdown",
   "id": "c077b0da",
   "metadata": {},
   "source": [
    "### data.label.numerical_label_preprocessing\n",
    "\n",
    "How to process the numerical labels in regression tasks.\n",
    "\n",
    "- `\"standardscaler\"`: standardizes numerical labels by removing the mean and scaling to unit variance.\n",
    "- `\"minmaxscaler\"`: transforms numerical labels by scaling each feature to range (0, 1)."
   ]
  },
  {
   "cell_type": "code",
   "execution_count": null,
   "id": "9f4b2f9b",
   "metadata": {},
   "outputs": [],
   "source": [
    "# default used by AutoMM\n",
    "predictor.fit(hyperparameters={\"data.label.numerical_label_preprocessing\": \"standardscaler\"})\n",
    "# scale numerical labels to (0, 1)\n",
    "predictor.fit(hyperparameters={\"data.label.numerical_label_preprocessing\": \"minmaxscaler\"})"
   ]
  },
  {
   "cell_type": "markdown",
   "id": "45d25653",
   "metadata": {},
   "source": [
    "### data.pos_label\n",
    "\n",
    "The positive label in a binary classification task. Users need to specify this label to properly use some metrics, e.g., roc_auc, average_precision, and f1."
   ]
  },
  {
   "cell_type": "code",
   "execution_count": null,
   "id": "d8c9cc4a",
   "metadata": {},
   "outputs": [],
   "source": [
    "# default used by AutoMM\n",
    "predictor.fit(hyperparameters={\"data.pos_label\": None})\n",
    "# assume the labels are [\"changed\", \"not changed\"] and \"changed\" is the positive label\n",
    "predictor.fit(hyperparameters={\"data.pos_label\": \"changed\"})"
   ]
  },
  {
   "cell_type": "markdown",
   "id": "bb2d7a89",
   "metadata": {},
   "source": [
    "### data.mixup.turn_on\n",
    "\n",
    "If True, use Mixup in training."
   ]
  },
  {
   "cell_type": "code",
   "execution_count": null,
   "id": "ac762f81",
   "metadata": {},
   "outputs": [],
   "source": [
    "# default used by AutoMM\n",
    "predictor.fit(hyperparameters={\"data.mixup.turn_on\": False})\n",
    "# turn on Mixup\n",
    "predictor.fit(hyperparameters={\"data.mixup.turn_on\": True})"
   ]
  },
  {
   "cell_type": "markdown",
   "id": "8047840d",
   "metadata": {},
   "source": [
    "### data.mixup.mixup_alpha\n",
    "\n",
    "Mixup alpha value. Mixup is active if `data.mixup.mixup_alpha` > 0."
   ]
  },
  {
   "cell_type": "code",
   "execution_count": null,
   "id": "726cda90",
   "metadata": {},
   "outputs": [],
   "source": [
    "# default used by AutoMM\n",
    "predictor.fit(hyperparameters={\"data.mixup.mixup_alpha\": 0.8})\n",
    "# set it to 1.0 to turn off Mixup\n",
    "predictor.fit(hyperparameters={\"data.mixup.mixup_alpha\": 1.0})"
   ]
  },
  {
   "cell_type": "markdown",
   "id": "af15f08d",
   "metadata": {},
   "source": [
    "### data.mixup.cutmix_alpha\n",
    "\n",
    "Cutmix alpha value. Cutmix is active if `data.mixup.cutmix_alpha` > 0."
   ]
  },
  {
   "cell_type": "code",
   "execution_count": null,
   "id": "8ae667bb",
   "metadata": {},
   "outputs": [],
   "source": [
    "# by default, Cutmix is turned off by using alpha 1.0\n",
    "predictor.fit(hyperparameters={\"data.mixup.cutmix_alpha\": 1.0})\n",
    "# turn it on by choosing a number in range (0, 1)\n",
    "predictor.fit(hyperparameters={\"data.mixup.cutmix_alpha\": 0.8})"
   ]
  },
  {
   "cell_type": "markdown",
   "id": "f33b8536",
   "metadata": {},
   "source": [
    "### data.mixup.prob\n",
    "\n",
    "The probability of conducting Mixup or Cutmix if enabled."
   ]
  },
  {
   "cell_type": "code",
   "execution_count": null,
   "id": "dae85eb9",
   "metadata": {},
   "outputs": [],
   "source": [
    "# default used by AutoMM\n",
    "predictor.fit(hyperparameters={\"data.mixup.prob\": 1.0})\n",
    "# set probability to 0.5\n",
    "predictor.fit(hyperparameters={\"data.mixup.prob\": 0.5})"
   ]
  },
  {
   "cell_type": "markdown",
   "id": "8fb9b3fb",
   "metadata": {},
   "source": [
    "### data.mixup.switch_prob\n",
    "\n",
    "The probability of switching to Cutmix instead of Mixup when both are active."
   ]
  },
  {
   "cell_type": "code",
   "execution_count": null,
   "id": "e1ed7535",
   "metadata": {},
   "outputs": [],
   "source": [
    "# default used by AutoMM\n",
    "predictor.fit(hyperparameters={\"data.mixup.switch_prob\": 0.5})\n",
    "# set probability to 0.7\n",
    "predictor.fit(hyperparameters={\"data.mixup.switch_prob\": 0.7})"
   ]
  },
  {
   "cell_type": "markdown",
   "id": "dbc8f7bd",
   "metadata": {},
   "source": [
    "### data.mixup.mode\n",
    "\n",
    "How to apply Mixup or Cutmix params (per `\"batch\"`, `\"pair\"` (pair of elements), `\"elem\"` (element)).\n",
    "See [here](https://github.com/rwightman/pytorch-image-models/blob/d30685c283137b4b91ea43c4e595c964cd2cb6f0/timm/data/mixup.py#L211-L216) for more details."
   ]
  },
  {
   "cell_type": "code",
   "execution_count": null,
   "id": "65a2ebf5",
   "metadata": {},
   "outputs": [],
   "source": [
    "# default used by AutoMM\n",
    "predictor.fit(hyperparameters={\"data.mixup.mode\": \"batch\"})\n",
    "# use \"pair\"\n",
    "predictor.fit(hyperparameters={\"data.mixup.mode\": \"pair\"})"
   ]
  },
  {
   "cell_type": "markdown",
   "id": "d21e3329",
   "metadata": {},
   "source": [
    "### data.mixup.label_smoothing\n",
    "\n",
    "Apply label smoothing to the mixed label tensors."
   ]
  },
  {
   "cell_type": "code",
   "execution_count": null,
   "id": "62fc529a",
   "metadata": {},
   "outputs": [],
   "source": [
    "# default used by AutoMM\n",
    "predictor.fit(hyperparameters={\"data.mixup.label_smoothing\": 0.1})\n",
    "# set it to 0.2\n",
    "predictor.fit(hyperparameters={\"data.mixup.label_smoothing\": 0.2})"
   ]
  },
  {
   "cell_type": "markdown",
   "id": "f2b2319a",
   "metadata": {},
   "source": [
    "### data.mixup.turn_off_epoch\n",
    "\n",
    "Stop Mixup or Cutmix after reaching this number of epochs."
   ]
  },
  {
   "cell_type": "code",
   "execution_count": null,
   "id": "e69bb197",
   "metadata": {},
   "outputs": [],
   "source": [
    "# default used by AutoMM\n",
    "predictor.fit(hyperparameters={\"data.mixup.turn_off_epoch\": 5})\n",
    "# turn off mixup after 7 epochs\n",
    "predictor.fit(hyperparameters={\"data.mixup.turn_off_epoch\": 7})"
   ]
  },
  {
   "cell_type": "markdown",
   "id": "3b9925ff",
   "metadata": {},
   "source": [
    "## Distiller\n",
    "\n",
    "### distiller.soft_label_loss_type\n",
    "\n",
    "What loss to compute when using teacher's output (logits) to supervise student's."
   ]
  },
  {
   "cell_type": "code",
   "execution_count": null,
   "id": "0271b90f",
   "metadata": {},
   "outputs": [],
   "source": [
    "# default used by AutoMM for classification\n",
    "predictor.fit(hyperparameters={\"distiller.soft_label_loss_type\": \"cross_entropy\"})\n",
    "# default used by AutoMM for regression\n",
    "predictor.fit(hyperparameters={\"distiller.soft_label_loss_type\": \"mse\"})"
   ]
  },
  {
   "cell_type": "markdown",
   "id": "efa1b784",
   "metadata": {},
   "source": [
    "### distiller.temperature\n",
    "\n",
    "Before computing the soft label loss, scale the teacher and student logits with it (teacher_logits / temperature, student_logits / temperature)."
   ]
  },
  {
   "cell_type": "code",
   "execution_count": null,
   "id": "d74412e4",
   "metadata": {},
   "outputs": [],
   "source": [
    "# default used by AutoMM for classification\n",
    "predictor.fit(hyperparameters={\"distiller.temperature\": 5})\n",
    "# set temperature to 1\n",
    "predictor.fit(hyperparameters={\"distiller.temperature\": 1})"
   ]
  },
  {
   "cell_type": "markdown",
   "id": "1c8c5b78",
   "metadata": {},
   "source": [
    "### distiller.hard_label_weight\n",
    "\n",
    "Scale the student's hard label (groundtruth) loss with this weight (hard_label_loss \\* hard_label_weight)."
   ]
  },
  {
   "cell_type": "code",
   "execution_count": null,
   "id": "7d8e73e4",
   "metadata": {},
   "outputs": [],
   "source": [
    "# default used by AutoMM for classification\n",
    "predictor.fit(hyperparameters={\"distiller.hard_label_weight\": 0.2})\n",
    "# set not to scale the hard label loss\n",
    "predictor.fit(hyperparameters={\"distiller.hard_label_weight\": 1})"
   ]
  },
  {
   "cell_type": "markdown",
   "id": "bce930dc",
   "metadata": {},
   "source": [
    "### distiller.soft_label_weight\n",
    "\n",
    "Scale the student's soft label (teacher's output) loss with this weight (soft_label_loss \\* soft_label_weight)."
   ]
  },
  {
   "cell_type": "code",
   "execution_count": null,
   "id": "6c4b5c43",
   "metadata": {},
   "outputs": [],
   "source": [
    "# default used by AutoMM for classification\n",
    "predictor.fit(hyperparameters={\"distiller.soft_label_weight\": 50})\n",
    "# set not to scale the soft label loss\n",
    "predictor.fit(hyperparameters={\"distiller.soft_label_weight\": 1})"
   ]
  },
  {
   "cell_type": "markdown",
   "id": "36840510",
   "metadata": {},
   "source": [
    "Please bear with us while we analyse the content"
   ]
  }
 ],
 "metadata": {},
 "nbformat": 4,
 "nbformat_minor": 5
}
