{
 "cells": [
  {
   "cell_type": "markdown",
   "id": "a2290fc8",
   "metadata": {},
   "source": [
    "# Hyperparameter Optimization in AutoMM\n",
    "\n",
    "Hyperparameter optimization (HPO) is a method that helps solve the challenge of tuning hyperparameters of machine learning models. ML algorithms have multiple complex hyperparameters that generate an enormous search space, and the search space in deep learning methods is even larger than traditional ML algorithms. Tuning on a massive search space is a tough challenge, but AutoMM provides various options for you to guide the fitting process based on your domain knowledge and the constraint on computing resources.\n",
    "\n",
    "## Create Image Dataset\n",
    "\n",
    "In this tutorial, we are going to again use the subset of the [Shopee-IET dataset](https://www.kaggle.com/c/shopee-iet-machine-learning-competition/data) from Kaggle for demonstration purpose. Each image contains a clothing item and the corresponding label specifies its clothing category. Our subset of the data contains the following possible labels: `BabyPants`, `BabyShirt`, `womencasualshoes`, `womenchiffontop`.\n",
    "\n",
    "We can load a dataset by downloading a url data automatically:"
   ]
  },
  {
   "cell_type": "code",
   "execution_count": null,
   "id": "0192b14a",
   "metadata": {},
   "outputs": [],
   "source": [
    "import autogluon.core as ag\n",
    "from autogluon.multimodal import MultiModalPredictor\n",
    "from autogluon.vision import ImageDataset\n",
    "from datetime import datetime\n",
    "train_data, _, test_data = ImageDataset.from_folders('https://autogluon.s3.amazonaws.com/datasets/shopee-iet.zip')\n",
    "train_data = train_data.sample(frac=0.5)\n",
    "print(train_data)"
   ]
  },
  {
   "cell_type": "markdown",
   "id": "9879a7f1",
   "metadata": {},
   "source": [
    "There are in total 400 data points in this dataset. The `image` column stores the path to the actual image, and the `label` column stands for the label class. \n",
    "\n",
    "\n",
    "## The Regular Model Fitting\n",
    "\n",
    "Recall that if we are to use the default settings predefined by Autogluon, we can simply fit the model using `MultiModalPredictor` with three lines of code:"
   ]
  },
  {
   "cell_type": "code",
   "execution_count": null,
   "id": "41276b61",
   "metadata": {},
   "outputs": [],
   "source": [
    "predictor_regular = MultiModalPredictor(label=\"label\")\n",
    "start_time = datetime.now()\n",
    "predictor_regular.fit(\n",
    "    train_data=train_data,\n",
    "    hyperparameters = {\"model.timm_image.checkpoint_name\": \"ghostnet_100\"}\n",
    ")\n",
    "end_time = datetime.now()\n",
    "elapsed_seconds = (end_time - start_time).total_seconds()\n",
    "elapsed_min = divmod(elapsed_seconds, 60)\n",
    "print(\"Total fitting time: \", f\"{int(elapsed_min[0])}m{int(elapsed_min[1])}s\")"
   ]
  },
  {
   "cell_type": "markdown",
   "id": "27e9655b",
   "metadata": {},
   "source": [
    "Let's check out the test accuracy of the fitted model:"
   ]
  },
  {
   "cell_type": "code",
   "execution_count": null,
   "id": "06555293",
   "metadata": {},
   "outputs": [],
   "source": [
    "scores = predictor_regular.evaluate(test_data, metrics=[\"accuracy\"])\n",
    "print('Top-1 test acc: %.3f' % scores[\"accuracy\"])"
   ]
  },
  {
   "cell_type": "markdown",
   "id": "b85ec7e3",
   "metadata": {},
   "source": [
    "## Use HPO During Model Fitting\n",
    "\n",
    "If you would like more control over the fitting process, you can specify various options for hyperparameter optimizations(HPO) in `MultiModalPredictor` by simply adding more options in `hyperparameter` and `hyperparameter_tune_kwargs`.\n",
    "\n",
    "There are a few options we can have in MultiModalPredictor. We use [Ray Tune](https://docs.ray.io/en/latest/tune/index.html) `tune` library in the backend, so we need to pass in a [Tune search space](https://docs.ray.io/en/latest/tune/api_docs/search_space.html) or an [AutoGluon search space](https://auto.gluon.ai/dev/tutorials/course/core.html) which will be converted to Tune search space.\n",
    "\n",
    "1. Defining the search space of various `hyperparameter` values for the training of neural networks:"
   ]
  },
  {
   "cell_type": "code",
   "execution_count": null,
   "id": "43f5274a",
   "metadata": {},
   "outputs": [],
   "source": [
    "hyperparameters = {\n",
    "        \"optimization.learning_rate\": tune.uniform(0.00005, 0.005),\n",
    "        \"optimization.optim_type\": tune.choice([\"adamw\", \"sgd\"]),\n",
    "        \"optimization.max_epochs\": tune.choice([\"10\", \"20\"]), \n",
    "        \"model.timm_image.checkpoint_name\": tune.choice([\"swin_base_patch4_window7_224\", \"convnext_base_in22ft1k\"])\n",
    "        }"
   ]
  },
  {
   "cell_type": "markdown",
   "id": "eceaf8f8",
   "metadata": {},
   "source": [
    "<ul>\n",
    "This is an example but not an exhaustive list. You can find the full supported list in [Customize AutoMM](https://auto.gluon.ai/stable/tutorials/multimodal/customization.html#sec-automm-customization)\n",
    "</ul>\n",
    "    \n",
    "2. Defining the search strategy for HPO with `hyperparameter_tune_kwargs`. You can pass in a string or initialize a `ray.tune.schedulers.TrialScheduler` object.\n",
    "\n",
    "<ul>\n",
    "a. Specifying how to search through your chosen hyperparameter space (supports `random` and `bayes`):"
   ]
  },
  {
   "cell_type": "code",
   "execution_count": null,
   "id": "0868efd7",
   "metadata": {},
   "outputs": [],
   "source": [
    "\"searcher\": \"bayes\""
   ]
  },
  {
   "cell_type": "markdown",
   "id": "174253cb",
   "metadata": {},
   "source": [
    "</ul>\n",
    "\n",
    "<ul>\n",
    "b. Specifying how to schedule jobs to train a network under a particular hyperparameter configuration (supports `FIFO` and `ASHA`):"
   ]
  },
  {
   "cell_type": "code",
   "execution_count": null,
   "id": "471d17cc",
   "metadata": {},
   "outputs": [],
   "source": [
    "\"scheduler\": \"ASHA\""
   ]
  },
  {
   "cell_type": "markdown",
   "id": "1bfed0b7",
   "metadata": {},
   "source": [
    "</ul>\n",
    "\n",
    "<ul>\n",
    "c. Number of trials you would like to carry out HPO:"
   ]
  },
  {
   "cell_type": "code",
   "execution_count": null,
   "id": "552f84c6",
   "metadata": {},
   "outputs": [],
   "source": [
    "\"num_trials\": 20"
   ]
  },
  {
   "cell_type": "markdown",
   "id": "8d028109",
   "metadata": {},
   "source": [
    "</ul>\n",
    "\n",
    "Let's work on HPO with combinations of different learning rates and backbone models:"
   ]
  },
  {
   "cell_type": "code",
   "execution_count": null,
   "id": "d5d4cfb0",
   "metadata": {},
   "outputs": [],
   "source": [
    "from ray import tune\n",
    "\n",
    "predictor_hpo = MultiModalPredictor(label=\"label\")\n",
    "\n",
    "hyperparameters = {\n",
    "            \"optimization.learning_rate\": tune.uniform(0.00005, 0.001),\n",
    "            \"model.timm_image.checkpoint_name\": tune.choice([\"ghostnet_100\",\n",
    "                                                             \"mobilenetv3_large_100\"])\n",
    "}\n",
    "hyperparameter_tune_kwargs = {\n",
    "    \"searcher\": \"bayes\", # random\n",
    "    \"scheduler\": \"ASHA\",\n",
    "    \"num_trials\": 2,\n",
    "}\n",
    "start_time_hpo = datetime.now()\n",
    "predictor_hpo.fit(\n",
    "        train_data=train_data,\n",
    "        hyperparameters=hyperparameters,\n",
    "        hyperparameter_tune_kwargs=hyperparameter_tune_kwargs,\n",
    "    )\n",
    "end_time_hpo = datetime.now()\n",
    "elapsed_seconds_hpo = (end_time_hpo - start_time_hpo).total_seconds()\n",
    "elapsed_min_hpo = divmod(elapsed_seconds_hpo, 60)\n",
    "print(\"Total fitting time: \", f\"{int(elapsed_min_hpo[0])}m{int(elapsed_min_hpo[1])}s\")"
   ]
  },
  {
   "cell_type": "markdown",
   "id": "221df4b9",
   "metadata": {},
   "source": [
    "Let's check out the test accuracy of the fitted model after HPO:"
   ]
  },
  {
   "cell_type": "code",
   "execution_count": null,
   "id": "2ed7578e",
   "metadata": {},
   "outputs": [],
   "source": [
    "scores_hpo = predictor_hpo.evaluate(test_data, metrics=[\"accuracy\"])\n",
    "print('Top-1 test acc: %.3f' % scores_hpo[\"accuracy\"])"
   ]
  },
  {
   "cell_type": "markdown",
   "id": "e36d7e77",
   "metadata": {},
   "source": [
    "From the training log, you should be able to see the current best trial as below:"
   ]
  },
  {
   "cell_type": "code",
   "execution_count": null,
   "id": "67cca724",
   "metadata": {},
   "outputs": [],
   "source": [
    "Current best trial: 47aef96a with val_accuracy=0.862500011920929 and parameters={'optimization.learning_rate': 0.0007195214018085505, 'model.timm_image.checkpoint_name': 'ghostnet_100'}"
   ]
  },
  {
   "cell_type": "markdown",
   "id": "d4db879d",
   "metadata": {},
   "source": [
    "After our simple 2-trial HPO run, we got a better test accuracy, by searching different learning rates and models, compared to the out-of-box solution provided in the previous section. HPO helps select the combination of hyperparameters with highest validation accuracy."
   ]
  }
 ],
 "metadata": {},
 "nbformat": 4,
 "nbformat_minor": 5
}
