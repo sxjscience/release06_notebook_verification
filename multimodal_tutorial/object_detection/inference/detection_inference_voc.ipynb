{
 "cells": [
  {
   "cell_type": "markdown",
   "id": "a03ea88c",
   "metadata": {},
   "source": [
    "# AutoMM Detection - Inference with Pretrained Faster R-CNN on VOC Dataset\n",
    ":label:`sec_automm_detection_infer_voc`\n",
    "\n",
    "In this section, we show an example to run inference on VOC2007 dataset that is in VOC Format. \n",
    "Different from running evaluation, the purpose is to get detection results for potential down-stream tasks. \n",
    "For more details about the VOC format, please see \\[Convert VOC to COCO].\n",
    "However, we strongly recommend using the COCO format, through we provide limited support for VOC format.\n",
    "We use a Faster R-CNN model model pretrained on VOC2007 and VOC2012 dataset\n",
    "\n",
    "## Prepare data\n",
    "For running this tutorial, you should have VOC dataset prepared. \n",
    "If you haven't already, head over to :label:`sec_automm_detection_prepare_voc` to prepare your VOC data. \n",
    "This tutorial assumes that you have saved VOC data under the folder `~/data/`, i.e. it should appear at `~/data/VOCdevkit`.\n",
    "\n",
    "## Creating the `MultiModalPredictor`\n",
    "To start, import MultiModalPredictor:"
   ]
  },
  {
   "cell_type": "code",
   "execution_count": null,
   "id": "4647ebbc",
   "metadata": {},
   "outputs": [],
   "source": [
    "from autogluon.multimodal import MultiModalPredictor"
   ]
  },
  {
   "cell_type": "markdown",
   "id": "890c5e1d",
   "metadata": {},
   "source": [
    "### Use a pretrained model\n",
    "You can download a pretrained model and construct a predictor with it.\n",
    "In this tutorial, we use the Faster R-CNN with ResNet50 as backbone and Feature Pyramid Network (FPN) as neck.\n",
    "\n",
    "This is the only model we support that is pretrained on VOC.\n",
    "It's always recommended to finetune a model pretrained on COCO which is a larger dataset with more complicated task.\n",
    "To test other model structures on VOC, check \\[Fast Finetune on COCO format data] and \\[Fast Finetune on VOC format data]."
   ]
  },
  {
   "cell_type": "code",
   "execution_count": null,
   "id": "90b04d43",
   "metadata": {},
   "outputs": [],
   "source": [
    "checkpoint_name = \"faster_rcnn_r50_fpn_1x_voc0712\"\n",
    "num_gpus = 1  # multi GPU inference is not supported in VOC format"
   ]
  },
  {
   "cell_type": "markdown",
   "id": "461a8d08",
   "metadata": {},
   "source": [
    "You can also use other model by setting `checkpoint_name` to other model configs. \n",
    "Please refer to :ref: `selecting_models` for details about model selection. \n",
    "\n",
    "As before, we create the MultiModalPredictor with selected checkpoint name and number of GPUs.\n",
    "We also need to specify the `problem_type` to `\"object_detection\"`."
   ]
  },
  {
   "cell_type": "code",
   "execution_count": null,
   "id": "1129d54a",
   "metadata": {},
   "outputs": [],
   "source": [
    "predictor = MultiModalPredictor(\n",
    "    hyperparameters={\n",
    "        \"model.mmdet_image.checkpoint_name\": checkpoint_name,\n",
    "        \"env.num_gpus\": num_gpus,\n",
    "    },\n",
    "    problem_type=\"object_detection\",\n",
    ")"
   ]
  },
  {
   "cell_type": "markdown",
   "id": "05370735",
   "metadata": {},
   "source": [
    "### Use a finetuned model\n",
    "You can also use a previously trained/finetuned predictor to run inference with.\n",
    "First specify the predictor path, for example:"
   ]
  },
  {
   "cell_type": "code",
   "execution_count": null,
   "id": "5b8a9978",
   "metadata": {},
   "outputs": [],
   "source": [
    "load_path = \"./AutogluonModels/ag-20221104_185342\"  # replace this with path to your desired predictor"
   ]
  },
  {
   "cell_type": "markdown",
   "id": "a25ceece",
   "metadata": {},
   "source": [
    "Then load the predictor:"
   ]
  },
  {
   "cell_type": "code",
   "execution_count": null,
   "id": "c6ea87dc",
   "metadata": {},
   "outputs": [],
   "source": [
    "predictor = MultiModalPredictor.load(load_path)"
   ]
  },
  {
   "cell_type": "markdown",
   "id": "32274e03",
   "metadata": {},
   "source": [
    "## Setting up data\n",
    "\n",
    "Here we use VOC2007 for testing. See :label:`sec_automm_detection_prepare_voc` for VOC data preparation.\n",
    "While using VOC format dataset, the input is the root path of the dataset, and contains at least:"
   ]
  },
  {
   "cell_type": "code",
   "execution_count": null,
   "id": "52ed6681",
   "metadata": {},
   "outputs": [],
   "source": [
    "Annotations  ImageSets  JPEGImages labels.txt"
   ]
  },
  {
   "cell_type": "markdown",
   "id": "84b24173",
   "metadata": {},
   "source": [
    "[//]: # (Here `labels.txt` shall be added manually to include all the labels in the dataset.)\n",
    "Here `labels.txt` includes all the labels in the dataset. If not existed, it will be automatically generate it by scanning \n",
    "through all annotation files.\n",
    "In this example, the content of `labels.txt` is shown as below:"
   ]
  },
  {
   "cell_type": "code",
   "execution_count": null,
   "id": "45058f3c",
   "metadata": {},
   "outputs": [],
   "source": [
    "aeroplane\n",
    "bicycle\n",
    "bird\n",
    "boat\n",
    "bottle\n",
    "bus\n",
    "car\n",
    "cat\n",
    "chair\n",
    "cow\n",
    "diningtable\n",
    "dog\n",
    "horse\n",
    "motorbike\n",
    "person\n",
    "pottedplant\n",
    "sheep\n",
    "sofa\n",
    "train\n",
    "tvmonitor"
   ]
  },
  {
   "cell_type": "markdown",
   "id": "91866205",
   "metadata": {},
   "source": [
    "For VOC format data, we always use root_path. And the predictor will automatically select the `test` split."
   ]
  },
  {
   "cell_type": "code",
   "execution_count": null,
   "id": "247dbde1",
   "metadata": {},
   "outputs": [],
   "source": [
    "test_path = \"~/data/VOCdevkit/VOC2007\""
   ]
  },
  {
   "cell_type": "markdown",
   "id": "a856942c",
   "metadata": {},
   "source": [
    "## Running inference\n",
    "To run inference, run:"
   ]
  },
  {
   "cell_type": "code",
   "execution_count": null,
   "id": "2049da37",
   "metadata": {},
   "outputs": [],
   "source": [
    "pred = predictor.predict(test_path)"
   ]
  },
  {
   "cell_type": "markdown",
   "id": "fd45923f",
   "metadata": {},
   "source": [
    "By default, the `predictor.predict` does not save the detection results into a file.\n",
    "\n",
    "To run inference and save results, run the following:"
   ]
  },
  {
   "cell_type": "code",
   "execution_count": null,
   "id": "c2c2c211",
   "metadata": {},
   "outputs": [],
   "source": [
    "pred = predictor.predict(test_path, save_results=True)"
   ]
  },
  {
   "cell_type": "markdown",
   "id": "fc802c0d",
   "metadata": {},
   "source": [
    "Currently, we convert the results to a pandas `DataFrame` and save into a `.txt` file. \n",
    "The `.txt` file has two columns, `image` and `bboxes`, where\n",
    "- in `image`, each row contains the image path\n",
    "- in `bboxes`, each row is a list of dictionaries, each one representing a bounding box: \n",
    "  - `{\"class\": <predicted_class_name>, \"bbox\": [x1, y1, x2, y2], \"score\": <confidence_score>}`\n",
    "\n",
    "## Reading results\n",
    "By default, the returned value `pred` is a `list` and has the following dimensions:"
   ]
  },
  {
   "cell_type": "code",
   "execution_count": null,
   "id": "d40c051e",
   "metadata": {},
   "outputs": [],
   "source": [
    "[num_images, num_total_classes, num_detections_per_class, 5]"
   ]
  },
  {
   "cell_type": "markdown",
   "id": "d42f5f21",
   "metadata": {},
   "source": [
    "where \n",
    "- `num_images` is the number of images used to run inference on. \n",
    "- `num_total_classes` is the total number of classes depending on the model specified in `predictor`. In this example, `num_total_classes = 20` for the Faster R-CNN model pretrained on VOC dataset. To get all available classes in the predictor, run `predictor.get_predictor_classes()`\n",
    "- `num_detections_per_class` is the number of detections under each class. Note that this number can vary across different classes.\n",
    "- The last dimension contains the bounding box information, which follows `[x1, y1, x2, y2, score]` format. `x1, y1` are the top left corner of the bounding box, and `x2, y2` are the bottom right corner. `score` is the confidence score of the prediction\n",
    "\n",
    "example code to examine bounding box information:"
   ]
  },
  {
   "cell_type": "code",
   "execution_count": null,
   "id": "6c779c97",
   "metadata": {},
   "outputs": [],
   "source": [
    "detection_classes = predictor.get_predictor_classes()\n",
    "idx2classname = {idx: classname for (idx, classname) in enumerate(detection_classes)}\n",
    "for i, image_pred in enumerate(pred):\n",
    "    print(\"result for image {}\".format(i))\n",
    "    for j, per_cls_bboxes in enumerate(image_pred):\n",
    "        classname = idx2classname[j]\n",
    "        for bbox in per_cls_bboxes:\n",
    "            ## bbox = [x1, y1, x2, y2, conf_score]\n",
    "            print(\"bbox: {}, class: {}, score: {}\".format(bbox[:4], classname, bbox[4]))"
   ]
  },
  {
   "cell_type": "markdown",
   "id": "4e7b5800",
   "metadata": {},
   "source": [
    "If you prefer to get the results in `pd.DataFrame` format, run the following:"
   ]
  },
  {
   "cell_type": "code",
   "execution_count": null,
   "id": "3330424d",
   "metadata": {},
   "outputs": [],
   "source": [
    "pred_df = predictor.predict(test_path, as_pandas=True)"
   ]
  },
  {
   "cell_type": "markdown",
   "id": "89c2f6c9",
   "metadata": {},
   "source": [
    "Similar to the `.txt` file, the `pred_df` also has two columns, `image` and `bboxes`, where\n",
    "- in `image`, each row contains the image path\n",
    "- in `bboxes`, each row is a list of dictionaries, each one representing a bounding box: \n",
    "  - `{\"class\": <predicted_class_name>, \"bbox\": [x1, y1, x2, y2], \"score\": <confidence_score>}`\n",
    "\n",
    "## Visualizing Results\n",
    "To run visualizations, ensure that you have `opencv` installed. If you haven't already, install `opencv` by running"
   ]
  },
  {
   "cell_type": "code",
   "execution_count": null,
   "id": "79c1e41e",
   "metadata": {},
   "outputs": [],
   "source": [
    "pip install opencv-python"
   ]
  },
  {
   "cell_type": "markdown",
   "id": "580e67ba",
   "metadata": {},
   "source": [
    "To visualize the detection bounding boxes, run the following:"
   ]
  },
  {
   "cell_type": "code",
   "execution_count": null,
   "id": "d200d188",
   "metadata": {},
   "outputs": [],
   "source": [
    "from autogluon.multimodal.utils import from_coco_or_voc, visualize_detection\n",
    "import matplotlib.pyplot as plt\n",
    "conf_threshold = 0.4  # Specify a confidence threshold to filter out unwanted boxes\n",
    "visualization_result_dir = \"~/data/VOCdevkit/VOC2007/visualizations\"  # Specify a directory to save visualized images.\n",
    "\n",
    "df = from_coco_or_voc(test_path)[:10][[\"image\"]]  # we took 10 images for this example.\n",
    "\n",
    "pred = predictor.predict(df)\n",
    "\n",
    "visualized = visualize_detection(\n",
    "    pred=pred,\n",
    "    detection_classes=predictor.get_predictor_classes(),\n",
    "    conf_threshold=conf_threshold,\n",
    "    visualization_result_dir=visualization_result_dir,\n",
    ")\n",
    "\n",
    "plt.imshow(visualized[0][:, : ,::-1])  # shows the first image with bounding box"
   ]
  },
  {
   "cell_type": "markdown",
   "id": "8a8cb641",
   "metadata": {},
   "source": [
    "Note that we took 10 images to visualize for this example. \n",
    "Please consider your storage situation when deciding the number of images to visualize.  \n",
    "\n",
    "The `pred` parameter that `visualize_detection` function takes as input follows the form of a `pandas` `DataFrame`, same as in the `pred_df`. \n",
    "Make sure you have the format when visualizing.\n",
    "### Other Examples\n",
    "\n",
    "You may go to [AutoMM Examples](https://github.com/awslabs/autogluon/tree/master/examples/automm) to explore other examples about AutoMM.\n",
    "\n",
    "### Customization\n",
    "To learn how to customize AutoMM, please refer to :ref:`sec_automm_customization`.\n",
    "\n",
    "### Citation\n",
    "```\n",
    "@article{Ren_2017,\n",
    "   title={Faster R-CNN: Towards Real-Time Object Detection with Region Proposal Networks},\n",
    "   journal={IEEE Transactions on Pattern Analysis and Machine Intelligence},\n",
    "   publisher={Institute of Electrical and Electronics Engineers (IEEE)},\n",
    "   author={Ren, Shaoqing and He, Kaiming and Girshick, Ross and Sun, Jian},\n",
    "   year={2017},\n",
    "   month={Jun},\n",
    "}\n",
    "```"
   ]
  }
 ],
 "metadata": {},
 "nbformat": 4,
 "nbformat_minor": 5
}
