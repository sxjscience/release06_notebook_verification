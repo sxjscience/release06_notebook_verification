{
 "cells": [
  {
   "cell_type": "markdown",
   "id": "51fe5e1d",
   "metadata": {},
   "source": [
    "# AutoMM Detection - Load A Trained Detector\n",
    ":label:`sec_automm_detection_load`\n",
    "\n",
    "In this section, our goal is to load and evaluate the predictor trained previously.\n",
    "\n",
    "To start, let's import MultiModalPredictor:"
   ]
  },
  {
   "cell_type": "code",
   "execution_count": null,
   "id": "bb4dc134",
   "metadata": {},
   "outputs": [],
   "source": [
    "from autogluon.multimodal import MultiModalPredictor"
   ]
  },
  {
   "cell_type": "markdown",
   "id": "f98ed2a9",
   "metadata": {},
   "source": [
    "We'll use the predictor we finetuned in previous tutorial :ref:`sec_automm_detection_fast_finetune_coco`.\n",
    "Note that you should have a different `load_path`. For test, we still use VOC2007 test set in COCO format."
   ]
  },
  {
   "cell_type": "code",
   "execution_count": null,
   "id": "ad154179",
   "metadata": {},
   "outputs": [],
   "source": [
    "load_path = \"./AutogluonModels/ag-20221104_185342\"\n",
    "test_path = \"./VOCdevkit/VOC2007/Annotations/test_cocoformat.json\""
   ]
  },
  {
   "cell_type": "markdown",
   "id": "b73949ce",
   "metadata": {},
   "source": [
    "We load the MultiModalPredictor in one line, with all previous settings recovered."
   ]
  },
  {
   "cell_type": "code",
   "execution_count": null,
   "id": "e481acf5",
   "metadata": {},
   "outputs": [],
   "source": [
    "predictor = MultiModalPredictor.load(load_path)"
   ]
  },
  {
   "cell_type": "markdown",
   "id": "f18eafc5",
   "metadata": {},
   "source": [
    "In some cases we may want to use different number of gpus for the predictor.\n",
    "For example, here we used 4 gpus while training the preditor but there is only one available at this point.\n",
    "Then we can reset the number of gpus by:"
   ]
  },
  {
   "cell_type": "code",
   "execution_count": null,
   "id": "548428d0",
   "metadata": {},
   "outputs": [],
   "source": [
    "predictor.set_num_gpus(num_gpus=1)"
   ]
  },
  {
   "cell_type": "markdown",
   "id": "f87845f1",
   "metadata": {},
   "source": [
    "To evaluate the predictor we loaded, run:"
   ]
  },
  {
   "cell_type": "code",
   "execution_count": null,
   "id": "f054346f",
   "metadata": {},
   "outputs": [],
   "source": [
    "predictor.evaluate(test_path)"
   ]
  },
  {
   "cell_type": "markdown",
   "id": "998a987c",
   "metadata": {},
   "source": [
    "And the evaluation results are shown in command line output.\n",
    "It's exactly the same as we got in previous training."
   ]
  },
  {
   "cell_type": "code",
   "execution_count": null,
   "id": "1278a3c6",
   "metadata": {},
   "outputs": [],
   "source": [
    " Average Precision  (AP) @[ IoU=0.50:0.95 | area=   all | maxDets=100 ] = 0.375\n",
    " Average Precision  (AP) @[ IoU=0.50      | area=   all | maxDets=100 ] = 0.755\n",
    " Average Precision  (AP) @[ IoU=0.75      | area=   all | maxDets=100 ] = 0.311\n",
    " Average Precision  (AP) @[ IoU=0.50:0.95 | area= small | maxDets=100 ] = 0.111\n",
    " Average Precision  (AP) @[ IoU=0.50:0.95 | area=medium | maxDets=100 ] = 0.230\n",
    " Average Precision  (AP) @[ IoU=0.50:0.95 | area= large | maxDets=100 ] = 0.431\n",
    " Average Recall     (AR) @[ IoU=0.50:0.95 | area=   all | maxDets=  1 ] = 0.355\n",
    " Average Recall     (AR) @[ IoU=0.50:0.95 | area=   all | maxDets= 10 ] = 0.505\n",
    " Average Recall     (AR) @[ IoU=0.50:0.95 | area=   all | maxDets=100 ] = 0.515\n",
    " Average Recall     (AR) @[ IoU=0.50:0.95 | area= small | maxDets=100 ] = 0.258\n",
    " Average Recall     (AR) @[ IoU=0.50:0.95 | area=medium | maxDets=100 ] = 0.415\n",
    " Average Recall     (AR) @[ IoU=0.50:0.95 | area= large | maxDets=100 ] = 0.556"
   ]
  },
  {
   "cell_type": "markdown",
   "id": "c2cbd374",
   "metadata": {},
   "source": [
    "After the predictor is loaded, you can do the evaluation, prediction,\n",
    "or finetune it on another dataset. But note the loaded predictor is saved at the same path\n",
    "and the save operation in finetuning will overwrite the previous checkpoint.\n",
    "\n",
    "### Other Examples\n",
    "\n",
    "You may go to [AutoMM Examples](https://github.com/awslabs/autogluon/tree/master/examples/automm) to explore other examples about AutoMM.\n",
    "\n",
    "### Customization\n",
    "To learn how to customize AutoMM, please refer to :ref:`sec_automm_customization`."
   ]
  }
 ],
 "metadata": {},
 "nbformat": 4,
 "nbformat_minor": 5
}
