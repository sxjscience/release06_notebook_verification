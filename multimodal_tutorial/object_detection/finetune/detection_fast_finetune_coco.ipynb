{
 "cells": [
  {
   "cell_type": "markdown",
   "id": "41f53e7b",
   "metadata": {},
   "source": [
    "# AutoMM Detection - Fast Finetune on COCO Format Dataset\n",
    ":label:`sec_automm_detection_fast_finetune_coco`\n",
    "\n",
    "In this section, our goal is to fast finetune a pretrained model on VOC2017 training set, \n",
    "and evaluate it in VOC2007 test set. Both training and test sets are in COCO format.\n",
    "See :ref:`sec_automm_detection_prepare_voc` for how to prepare VOC dataset,\n",
    "and :ref:`sec_automm_detection_convert_to_coco` for how to convert other datasets to COCO format.\n",
    "\n",
    "To start, let's import MultiModalPredictor:"
   ]
  },
  {
   "cell_type": "code",
   "execution_count": null,
   "id": "3f409d3b",
   "metadata": {},
   "outputs": [],
   "source": [
    "from autogluon.multimodal import MultiModalPredictor"
   ]
  },
  {
   "cell_type": "markdown",
   "id": "c8bb3772",
   "metadata": {},
   "source": [
    "We select the YOLOv3 with MobileNetV2 as backbone,\n",
    "and input resolution is 320x320, pretrained on COCO dataset. With this setting, it is fast to finetune or inference,\n",
    "and easy to deploy.\n",
    "For more model choices, see :label:`sec_automm_detection_selecting_models`.\n",
    "While using COCO format dataset, the input is the json annotation file of the dataset split.\n",
    "In this example, `voc07_train.json` and `voc07_test.json` are the annotation files of train and test split of VOC2007 dataset.\n",
    "And we use all the GPUs (if any):"
   ]
  },
  {
   "cell_type": "code",
   "execution_count": null,
   "id": "cea94e7d",
   "metadata": {},
   "outputs": [],
   "source": [
    "checkpoint_name = \"yolov3_mobilenetv2_320_300e_coco\"\n",
    "num_gpus = -1  # use all GPUs\n",
    "\n",
    "train_path = \"./VOCdevkit/VOC2007/Annotations/train_cocoformat.json\" \n",
    "test_path = \"./VOCdevkit/VOC2007/Annotations/test_cocoformat.json\""
   ]
  },
  {
   "cell_type": "markdown",
   "id": "a2e4e426",
   "metadata": {},
   "source": [
    "We create the MultiModalPredictor with selected checkpoint name and number of GPUs.\n",
    "We need to specify the problem_type to `\"object_detection\"`,\n",
    "and also provide a `sample_data_path` for the predictor to infer the catgories of the dataset.\n",
    "Here we provide the `train_path`, and it also works using any other split of this dataset."
   ]
  },
  {
   "cell_type": "code",
   "execution_count": null,
   "id": "d4fb620d",
   "metadata": {},
   "outputs": [],
   "source": [
    "predictor = MultiModalPredictor(\n",
    "    hyperparameters={\n",
    "        \"model.mmdet_image.checkpoint_name\": checkpoint_name,\n",
    "        \"env.num_gpus\": num_gpus,\n",
    "    },\n",
    "    problem_type=\"object_detection\",\n",
    "    sample_data_path=train_path,\n",
    ")"
   ]
  },
  {
   "cell_type": "markdown",
   "id": "6d630cc0",
   "metadata": {},
   "source": [
    "If no data sample is available at this point, you can also create the MultiModalPredictor by manually input the classes:"
   ]
  },
  {
   "cell_type": "code",
   "execution_count": null,
   "id": "607c3085",
   "metadata": {},
   "outputs": [],
   "source": [
    "voc_classes = [\"aeroplane\", \"bicycle\", \"bird\", \"boat\", \"bottle\", \"bus\", \"car\", \"cat\", \"chair\", \"cow\", \"diningtable\", \"dog\", \"horse\", \"motorbike\", \"person\", \"pottedplant\", \"sheep\", \"sofa\", \"train\", \"tvmonitor\"]\n",
    "predictor = MultiModalPredictor(\n",
    "    hyperparameters={\n",
    "        \"model.mmdet_image.checkpoint_name\": checkpoint_name,\n",
    "        \"env.num_gpus\": num_gpus,\n",
    "    },\n",
    "    problem_type=\"object_detection\",\n",
    "    classes=voc_classes,\n",
    ")"
   ]
  },
  {
   "cell_type": "markdown",
   "id": "3a4155cd",
   "metadata": {},
   "source": [
    "We set the learning rate to be `1e-4`.\n",
    "Note that we use a two-stage learning rate option during finetuning by default,\n",
    "and the model head will have 100x learning rate.\n",
    "Using a two-stage learning rate with high learning rate only on head layers makes\n",
    "the model converge faster during finetuning. It usually gives better performance as well,\n",
    "especially on small datasets with hundreds or thousands of images.\n",
    "We also set the epoch to be 5 for fast finetuning and batch_size to be 32.\n",
    "For more information about how to tune those hyperparameters,\n",
    "see :ref:`sec_automm_detection_tune_hyperparameters`.\n",
    "We also compute the time of the fit process here for better understanding the speed."
   ]
  },
  {
   "cell_type": "code",
   "execution_count": null,
   "id": "1889b305",
   "metadata": {},
   "outputs": [],
   "source": [
    "start = time.time()\n",
    "predictor.fit(\n",
    "    train_path,\n",
    "    hyperparameters={\n",
    "        \"optimization.learning_rate\": 1e-4, # we use two stage and detection head has 100x lr\n",
    "        \"optimization.max_epochs\": 5,\n",
    "        \"env.per_gpu_batch_size\": 32,  # decrease it when model is large\n",
    "    },\n",
    ")\n",
    "end = time.time()"
   ]
  },
  {
   "cell_type": "markdown",
   "id": "2d552856",
   "metadata": {},
   "source": [
    "We run it on a g5dn.12xlarge EC2 machine on AWS,\n",
    "and part of the command outputs are shown below:"
   ]
  },
  {
   "cell_type": "code",
   "execution_count": null,
   "id": "085b9320",
   "metadata": {},
   "outputs": [],
   "source": [
    "Epoch 0:  98%|██████████████████████████████████████████████████████████████████████████████████████████▏ | 50/51 [00:15<00:00,  3.19it/s, loss=766, v_num=Epoch 0, global step 40: 'val_direct_loss' reached 555.37537 (best 555.37537), saving model to '/media/code/autogluon/examples/automm/object_detection/AutogluonModels/ag-20221104_185342/epoch=0-step=40.ckpt' as top 1\n",
    "Epoch 1:  49%|█████████████████████████████████████████████                                               | 25/51 [00:08<00:08,  3.01it/s, loss=588, v_num=Epoch 1, global step 61: 'val_direct_loss' reached 499.56232 (best 499.56232), saving model to '/media/code/autogluon/examples/automm/object_detection/AutogluonModels/ag-20221104_185342/epoch=1-step=61.ckpt' as top 1\n",
    "Epoch 1:  98%|██████████████████████████████████████████████████████████████████████████████████████████▏ | 50/51 [00:15<00:00,  3.17it/s, loss=554, v_num=Epoch 1, global step 81: 'val_direct_loss' reached 481.33121 (best 481.33121), saving model to '/media/code/autogluon/examples/automm/object_detection/AutogluonModels/ag-20221104_185342/epoch=1-step=81.ckpt' as top 1\n",
    "Epoch 2:  49%|█████████████████████████████████████████████                                               | 25/51 [00:08<00:08,  2.99it/s, loss=539, v_num=Epoch 2, global step 102: 'val_direct_loss' reached 460.25449 (best 460.25449), saving model to '/media/code/autogluon/examples/automm/object_detection/AutogluonModels/ag-20221104_185342/epoch=2-step=102.ckpt' as top 1\n",
    "Epoch 2:  98%|██████████████████████████████████████████████████████████████████████████████████████████▏ | 50/51 [00:15<00:00,  3.15it/s, loss=539, v_num=Epoch 2, global step 122: 'val_direct_loss' was not in top 1                                                                                                 \n",
    "Epoch 3:  49%|█████████████████████████████████████████████                                               | 25/51 [00:08<00:08,  2.96it/s, loss=533, v_num=Epoch 3, global step 143: 'val_direct_loss' was not in top 1                                                                                                 \n",
    "Epoch 3:  88%|█████████████████████████████████████████████████████████████████████████████████▏          | 45/51 [00:14<00:01,  3.17it/s, loss=508, v_num=]"
   ]
  },
  {
   "cell_type": "markdown",
   "id": "90dc850c",
   "metadata": {},
   "source": [
    "Notice that at the end of each progress bar, if the checkpoint at current stage is saved,\n",
    "it prints the model's save path.\n",
    "In this example, it's `/media/code/autogluon/examples/automm/object_detection/AutogluonModels/ag-20221104_185342`.\n",
    "You can also specify the `save_path` like below while creating the MultiModalPredictor.\n",
    "For more information about save and load the model,\n",
    "see :ref:`sec_automm_detection_save_and_load`."
   ]
  },
  {
   "cell_type": "code",
   "execution_count": null,
   "id": "eccd086f",
   "metadata": {},
   "outputs": [],
   "source": [
    "predictor = MultiModalPredictor(\n",
    "    save_path=\"./this_is_a_save_path\",\n",
    "    ...\n",
    ")"
   ]
  },
  {
   "cell_type": "markdown",
   "id": "751b3890",
   "metadata": {},
   "source": [
    "Print out the time and we can see that it only takes 100.42 seconds!"
   ]
  },
  {
   "cell_type": "code",
   "execution_count": null,
   "id": "10c91c03",
   "metadata": {},
   "outputs": [],
   "source": [
    "print(\"This finetuning takes %.2f seconds.\" % (end - start))"
   ]
  },
  {
   "cell_type": "code",
   "execution_count": null,
   "id": "7de399a7",
   "metadata": {},
   "outputs": [],
   "source": [
    "This finetuning takes 100.42 seconds."
   ]
  },
  {
   "cell_type": "markdown",
   "id": "497fbc44",
   "metadata": {},
   "source": [
    "To evaluate the model we just trained, run:"
   ]
  },
  {
   "cell_type": "code",
   "execution_count": null,
   "id": "cae24811",
   "metadata": {},
   "outputs": [],
   "source": [
    "predictor.evaluate(test_path)"
   ]
  },
  {
   "cell_type": "markdown",
   "id": "a55a5228",
   "metadata": {},
   "source": [
    "And the evaluation results are shown in command line output. \n",
    "The first value `0.375` is mAP in COCO standard, and the second one `0.755` is mAP in VOC standard (or mAP50). \n",
    "For more details about these metrics, see [COCO's evaluation guideline](https://cocodataset.org/#detection-eval)."
   ]
  },
  {
   "cell_type": "code",
   "execution_count": null,
   "id": "48ffae88",
   "metadata": {},
   "outputs": [],
   "source": [
    " Average Precision  (AP) @[ IoU=0.50:0.95 | area=   all | maxDets=100 ] = 0.375\n",
    " Average Precision  (AP) @[ IoU=0.50      | area=   all | maxDets=100 ] = 0.755\n",
    " Average Precision  (AP) @[ IoU=0.75      | area=   all | maxDets=100 ] = 0.311\n",
    " Average Precision  (AP) @[ IoU=0.50:0.95 | area= small | maxDets=100 ] = 0.111\n",
    " Average Precision  (AP) @[ IoU=0.50:0.95 | area=medium | maxDets=100 ] = 0.230\n",
    " Average Precision  (AP) @[ IoU=0.50:0.95 | area= large | maxDets=100 ] = 0.431\n",
    " Average Recall     (AR) @[ IoU=0.50:0.95 | area=   all | maxDets=  1 ] = 0.355\n",
    " Average Recall     (AR) @[ IoU=0.50:0.95 | area=   all | maxDets= 10 ] = 0.505\n",
    " Average Recall     (AR) @[ IoU=0.50:0.95 | area=   all | maxDets=100 ] = 0.515\n",
    " Average Recall     (AR) @[ IoU=0.50:0.95 | area= small | maxDets=100 ] = 0.258\n",
    " Average Recall     (AR) @[ IoU=0.50:0.95 | area=medium | maxDets=100 ] = 0.415\n",
    " Average Recall     (AR) @[ IoU=0.50:0.95 | area= large | maxDets=100 ] = 0.556"
   ]
  },
  {
   "cell_type": "markdown",
   "id": "0be135cc",
   "metadata": {},
   "source": [
    "Under this fast finetune setting, we reached `mAP50 = 0.755` on VOC with 100 seconds!\n",
    "For how to finetune with higher performance,\n",
    "see :ref:`sec_automm_detection_high_performance_finetune_coco`, where we finetuned a VFNet model with \n",
    "5 hours and reached `mAP50 = 0.932` on VOC.\n",
    "\n",
    "### Other Examples\n",
    "\n",
    "You may go to [AutoMM Examples](https://github.com/awslabs/autogluon/tree/master/examples/automm) to explore other examples about AutoMM.\n",
    "\n",
    "### Customization\n",
    "To learn how to customize AutoMM, please refer to :ref:`sec_automm_customization`.\n",
    "\n",
    "### Citation"
   ]
  },
  {
   "cell_type": "code",
   "execution_count": null,
   "id": "46181826",
   "metadata": {},
   "outputs": [],
   "source": [
    "@misc{redmon2018yolov3,\n",
    "    title={YOLOv3: An Incremental Improvement},\n",
    "    author={Joseph Redmon and Ali Farhadi},\n",
    "    year={2018},\n",
    "    eprint={1804.02767},\n",
    "    archivePrefix={arXiv},\n",
    "    primaryClass={cs.CV}\n",
    "}"
   ]
  }
 ],
 "metadata": {},
 "nbformat": 4,
 "nbformat_minor": 5
}
