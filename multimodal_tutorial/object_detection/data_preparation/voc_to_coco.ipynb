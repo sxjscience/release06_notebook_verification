{
 "cells": [
  {
   "cell_type": "markdown",
   "id": "79ccac84",
   "metadata": {},
   "source": [
    "# AutoMM Detection - Convert VOC Format Dataset to COCO Format\n",
    ":label:`sec_automm_detection_voc_to_coco`\n",
    "\n",
    "[Pascal VOC](http://host.robots.ox.ac.uk/pascal/VOC/) is a collection of datasets for object detection. \n",
    "And VOC format refers to the specific format (in `.xml` file) the Pascal VOC dataset is using.\n",
    "\n",
    "In this tutorial, we will convert VOC2007 dataset from VOC format to COCO format. See :ref:`sec_automm_detection_prepare_voc` for how to download it.\n",
    "We will use our tool `voc2coco`. This python script is in our code: \n",
    "[voc2coco.py](https://github.com/awslabs/autogluon/tree/master/autogluon/multimodal/src/autogluon/multimodal/cli/voc_to_coco.py),\n",
    "and you can also run it as a cli: `python3 -m autogluon.multimodal.cli.voc2coco`.\n",
    "\n",
    "**Note: In Autogluon MultiModalPredictor, we strongly recommend using COCO as your data format.** However, for fast proof testing we also have limit support for VOC format.\n",
    "\n",
    "### Convert Existing Splits\n",
    "\n",
    "Under VOC format root path, we have the following folders:"
   ]
  },
  {
   "cell_type": "code",
   "execution_count": null,
   "id": "ca2ce7c8",
   "metadata": {},
   "outputs": [],
   "source": [
    "Annotations  ImageSets  JPEGImages"
   ]
  },
  {
   "cell_type": "markdown",
   "id": "794f64d6",
   "metadata": {},
   "source": [
    "And normally there are some pre-defined split files under `ImageSets/Main/`:"
   ]
  },
  {
   "cell_type": "code",
   "execution_count": null,
   "id": "401766b9",
   "metadata": {},
   "outputs": [],
   "source": [
    "train.txt\n",
    "val.txt\n",
    "test.txt\n",
    "..."
   ]
  },
  {
   "cell_type": "markdown",
   "id": "16038786",
   "metadata": {},
   "source": [
    "We can convert those splits into COCO format by simply running given the root directory, e.g. `./VOCdevkit/VOC2007`:"
   ]
  },
  {
   "cell_type": "code",
   "execution_count": null,
   "id": "a901b5af",
   "metadata": {},
   "outputs": [],
   "source": [
    "python3 -m autogluon.multimodal.cli.voc2coco --root_dir ./VOCdevkit/VOC2007"
   ]
  },
  {
   "cell_type": "markdown",
   "id": "694350b0",
   "metadata": {},
   "source": [
    "The command line output will show the progress:"
   ]
  },
  {
   "cell_type": "code",
   "execution_count": null,
   "id": "cac21ca8",
   "metadata": {},
   "outputs": [],
   "source": [
    "Start converting !\n",
    " 17%|█████████████████▍                                                                                  | 841/4952 [00:00<00:00, 15571.88it/s"
   ]
  },
  {
   "cell_type": "markdown",
   "id": "0b375ac6",
   "metadata": {},
   "source": [
    "Now those splits are converted to COCO format in `Annotations` folder under the root directory:"
   ]
  },
  {
   "cell_type": "code",
   "execution_count": null,
   "id": "d5112ff5",
   "metadata": {},
   "outputs": [],
   "source": [
    "train_cocoformat.json\n",
    "val_cocoformat.json\n",
    "test_cocoformat.json"
   ]
  },
  {
   "cell_type": "markdown",
   "id": "2bc5693c",
   "metadata": {},
   "source": [
    "### Convert Existing Splits\n",
    "\n",
    "Instead of using predefined splits, you can also split the data with the train/validation/test ratio you want.\n",
    "Note that this does not require any pre-existing split files. To split train/validation/test by 0.6/0.2/0.2, run:"
   ]
  },
  {
   "cell_type": "code",
   "execution_count": null,
   "id": "3d7280a6",
   "metadata": {},
   "outputs": [],
   "source": [
    "python3 -m autogluon.multimodal.cli.voc2coco --root_dir ./VOCdevkit/VOC2007 --train_ratio 0.6 --val_ratio 0.2"
   ]
  },
  {
   "cell_type": "markdown",
   "id": "e1ec0073",
   "metadata": {},
   "source": [
    "The command line output will show the progress:"
   ]
  },
  {
   "cell_type": "code",
   "execution_count": null,
   "id": "5ae2d6cd",
   "metadata": {},
   "outputs": [],
   "source": [
    "Start converting !\n",
    " 17%|█████████████████▍                                                                                  | 841/4952 [00:00<00:00, 15571.88it/s"
   ]
  },
  {
   "cell_type": "markdown",
   "id": "c34ddec8",
   "metadata": {},
   "source": [
    "And this will generate user splited COCO format in `Annotations` folder under the root directory:"
   ]
  },
  {
   "cell_type": "code",
   "execution_count": null,
   "id": "71bb2984",
   "metadata": {},
   "outputs": [],
   "source": [
    "usersplit_train_cocoformat.json\n",
    "usersplit_val_cocoformat.json\n",
    "usersplit_test_cocoformat.json"
   ]
  },
  {
   "cell_type": "markdown",
   "id": "b1e64635",
   "metadata": {},
   "source": [
    "### Other Examples\n",
    "\n",
    "You may go to [AutoMM Examples](https://github.com/awslabs/autogluon/tree/master/examples/automm) to explore other examples about AutoMM.\n",
    "\n",
    "### Customization\n",
    "To learn how to customize AutoMM, please refer to :ref:`sec_automm_customization`."
   ]
  }
 ],
 "metadata": {},
 "nbformat": 4,
 "nbformat_minor": 5
}
