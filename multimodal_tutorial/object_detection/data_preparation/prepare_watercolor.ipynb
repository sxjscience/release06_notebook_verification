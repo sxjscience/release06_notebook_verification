{
 "cells": [
  {
   "cell_type": "markdown",
   "id": "2e3c7766",
   "metadata": {},
   "source": [
    "# AutoMM Detection - Prepare Watercolor Dataset\n",
    ":label:`sec_automm_detection_prepare_watercolor`\n",
    "\n",
    "[Watercolor](https://naoto0804.github.io/cross_domain_detection/) is a small object detection dataset with 1,000 training images and 1,000 testing images,\n",
    "and has a specific domain, i.e. watercolor images. This dataset will be used to show how to \\[Fast Finetune on Custom Dataset].\n",
    "\n",
    "You need 7.5 GB disk space to download and extract this dataset. SSD is preferred over HDD because of its better performance.\n",
    "The total time to prepare the dataset depends on your Internet speed and disk performance. For example, it often takes 8 min on AWS EC2 with EBS.\n",
    "\n",
    "You can download the dataset from its [official project page](https://naoto0804.github.io/cross_domain_detection/).\n",
    "We also prepared a bash script for one-step downloading the dataset: \n",
    "[download_watercolor.sh](https://github.com/awslabs/autogluon/blob/master/examples/automm/object_detection/download_watercolor.sh).\n",
    "Or you can also use our cli tool `prepare_detection_dataset` that can download all datasets mentioned in our tutorials.\n",
    "This python script is in our code: \n",
    "[prepare_detection_dataset.py](https://github.com/awslabs/autogluon/tree/master/autogluon/multimodal/src/autogluon/multimodal/cli/prepare_detection_dataset.py),\n",
    "and you can also run it as a cli: `python3 -m autogluon.multimodal.cli.prepare_detection_dataset`.\n",
    "\n",
    "### Download with Python Script\n",
    "\n",
    "The python script does not show progress bar, but is promised to work on all major platforms.\n",
    "If you are working on a Unix system and needs a progress bar, try the bash script!\n",
    "\n",
    "You could either extract it in coco17 folder under current directory by running:"
   ]
  },
  {
   "cell_type": "code",
   "execution_count": null,
   "id": "2933ffa1",
   "metadata": {},
   "outputs": [],
   "source": [
    "python3 -m autogluon.multimodal.cli.prepare_detection_dataset --dataset_name watercolor"
   ]
  },
  {
   "cell_type": "markdown",
   "id": "a75fd938",
   "metadata": {},
   "source": [
    "or extract it in coco17 folder under a provided output path:"
   ]
  },
  {
   "cell_type": "code",
   "execution_count": null,
   "id": "9c3acd08",
   "metadata": {},
   "outputs": [],
   "source": [
    "python3 -m autogluon.multimodal.cli.prepare_detection_dataset --dataset_name watercolor --output_path ~/data"
   ]
  },
  {
   "cell_type": "markdown",
   "id": "b4c4df6e",
   "metadata": {},
   "source": [
    "or make it shorter:"
   ]
  },
  {
   "cell_type": "code",
   "execution_count": null,
   "id": "26b2acf5",
   "metadata": {},
   "outputs": [],
   "source": [
    "python3 -m autogluon.multimodal.cli.prepare_detection_dataset -d watercolor -o ~/data"
   ]
  },
  {
   "cell_type": "markdown",
   "id": "a2c1b383",
   "metadata": {},
   "source": [
    "### Download with Bash Script\n",
    "You could either extract it under current directory by running:"
   ]
  },
  {
   "cell_type": "code",
   "execution_count": null,
   "id": "f97b585d",
   "metadata": {},
   "outputs": [],
   "source": [
    "bash download_watercolor.sh"
   ]
  },
  {
   "cell_type": "markdown",
   "id": "0d49e9a8",
   "metadata": {},
   "source": [
    "or extract it under a provided output path:"
   ]
  },
  {
   "cell_type": "code",
   "execution_count": null,
   "id": "eb5f19c0",
   "metadata": {},
   "outputs": [],
   "source": [
    "bash download_watercolor.sh ~/data"
   ]
  },
  {
   "cell_type": "markdown",
   "id": "af113c27",
   "metadata": {},
   "source": [
    "The command line output will show the progress bar:"
   ]
  },
  {
   "cell_type": "code",
   "execution_count": null,
   "id": "733b22b2",
   "metadata": {},
   "outputs": [],
   "source": [
    "% Total    % Received % Xferd  Average Speed   Time    Time     Time  Current\n",
    "                               Dload  Upload   Total   Spent    Left  Speed\n",
    "4 3713M    4  170M    0     0  9627k      0  0:06:34  0:00:18  0:06:16 11.2M"
   ]
  },
  {
   "cell_type": "markdown",
   "id": "f2ed38c2",
   "metadata": {},
   "source": [
    "And after it finished, VOC datasets are extracted in folder `watercolor`, it contains"
   ]
  },
  {
   "cell_type": "code",
   "execution_count": null,
   "id": "93fa08a7",
   "metadata": {},
   "outputs": [],
   "source": [
    "Annotations  ImageSets  JPEGImages"
   ]
  },
  {
   "cell_type": "markdown",
   "id": "a17b12e4",
   "metadata": {},
   "source": [
    "### Dataset Format\n",
    "\n",
    "Watercolor is in VOC format. **In Autogluon MultiModalPredictor, we strongly recommend using COCO as your data format instead.\n",
    "Check :label:`sec_automm_detection_prepare_coco17` and :ref:`convert_data_to_coco_format` for more information\n",
    "about COCO dataset and how to convert a VOC dataset to COCO.**\n",
    "\n",
    "However, for fast proof testing we also have limit support for VOC format.\n",
    "While using VOC format dataset, the input is the root path of the dataset, and contains at least:"
   ]
  },
  {
   "cell_type": "code",
   "execution_count": null,
   "id": "f3bf31f6",
   "metadata": {},
   "outputs": [],
   "source": [
    "Annotations  ImageSets  JPEGImages labels.txt"
   ]
  },
  {
   "cell_type": "markdown",
   "id": "d79186e5",
   "metadata": {},
   "source": [
    "Here `labels.txt` shall be added manually to include all the labels in the dataset. \n",
    "For watercolor dataset, the content of `labels.txt` is shown as below:"
   ]
  },
  {
   "cell_type": "code",
   "execution_count": null,
   "id": "8d45442d",
   "metadata": {},
   "outputs": [],
   "source": [
    "bicycle\n",
    "bird\n",
    "car\n",
    "cat\n",
    "dog\n",
    "person"
   ]
  },
  {
   "cell_type": "markdown",
   "id": "b2dd0395",
   "metadata": {},
   "source": [
    "In Unix system, you can also generate the `labels.txt` file automatically by running the following command in its root path (under folder `watercolor`)"
   ]
  },
  {
   "cell_type": "code",
   "execution_count": null,
   "id": "23521261",
   "metadata": {},
   "outputs": [],
   "source": [
    "grep -ERoh '<name>(.*)</name>' ./Annotations | sort | uniq | sed 's/<name>//g' | sed 's/<\\/name>//g' > labels.txt"
   ]
  },
  {
   "cell_type": "markdown",
   "id": "0d4268ac",
   "metadata": {},
   "source": [
    "### Other Examples\n",
    "\n",
    "You may go to [AutoMM Examples](https://github.com/awslabs/autogluon/tree/master/examples/automm) to explore other examples about AutoMM.\n",
    "\n",
    "### Customization\n",
    "To learn how to customize AutoMM, please refer to :ref:`sec_automm_customization`.\n",
    "\n",
    "### Citation\n",
    "```\n",
    "@inproceedings{inoue_2018_cvpr,\n",
    "    author = {Inoue, Naoto and Furuta, Ryosuke and Yamasaki, Toshihiko and Aizawa, Kiyoharu},\n",
    "    title = {Cross-Domain Weakly-Supervised Object Detection Through Progressive Domain Adaptation},\n",
    "    booktitle = {The IEEE Conference on Computer Vision and Pattern Recognition (CVPR)},\n",
    "    month = {June},\n",
    "    year = {2018}\n",
    "}\n",
    "```"
   ]
  }
 ],
 "metadata": {},
 "nbformat": 4,
 "nbformat_minor": 5
}
