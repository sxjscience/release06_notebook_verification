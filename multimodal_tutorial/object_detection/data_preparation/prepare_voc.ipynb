{
 "cells": [
  {
   "cell_type": "markdown",
   "id": "a5ebfff3",
   "metadata": {},
   "source": [
    "# AutoMM Detection - Prepare Pascal VOC Dataset\n",
    ":label:`sec_automm_detection_prepare_voc`\n",
    "\n",
    "[Pascal VOC](http://host.robots.ox.ac.uk/pascal/VOC/) is a collection of datasets for object detection. \n",
    "The most commonly combination for benchmarking is using VOC2007 trainval and VOC2012 trainval for training and VOC2007 test for validation.\n",
    "Both VOC2007 and VOC2012 have the same 20 classes, and they have 16551 training images in total.\n",
    "This tutorial will walk through the steps of preparing both VOC2007 and VOC2012 for Autogluon MultiModalPredictor.\n",
    "\n",
    "You need 8.4 GB disk space to download and extract this dataset. SSD is preferred over HDD because of its better performance.\n",
    "The total time to prepare the dataset depends on your Internet speed and disk performance. For example, it often takes 10 min on AWS EC2 with EBS.\n",
    "\n",
    "VOC has an [official webpage](http://host.robots.ox.ac.uk/pascal/VOC/) to download the data, \n",
    "but it's always easier to perform a one-step setup.\n",
    "We prepared a script to download both VOC2007 and VOC2012 in our examples: \n",
    "[download_voc0712.sh](https://raw.githubusercontent.com/awslabs/autogluon/master/examples/automm/object_detection/download_voc0712.sh).\n",
    "You can also download them separately:\n",
    "[download_voc07.sh](https://raw.githubusercontent.com/awslabs/autogluon/master/examples/automm/object_detection/download_voc07.sh),\n",
    "[download_voc12.sh](https://raw.githubusercontent.com/awslabs/autogluon/master/examples/automm/object_detection/download_voc12.sh).\n",
    "Or you can also use our cli tool `prepare_detection_dataset` that can download all datasets mentioned in our tutorials.\n",
    "This python script is in our code: \n",
    "[prepare_detection_dataset.py](https://github.com/awslabs/autogluon/tree/master/autogluon/multimodal/src/autogluon/multimodal/cli/prepare_detection_dataset.py),\n",
    "and you can also run it as a cli: `python3 -m autogluon.multimodal.cli.prepare_detection_dataset`.\n",
    "\n",
    "### Download with Python Script\n",
    "\n",
    "The python script does not show progress bar, but is promised to work on all major platforms.\n",
    "If you are working on a Unix system and needs a progress bar, try the bash script!\n",
    "\n",
    "You could either extract it under current directory by running:"
   ]
  },
  {
   "cell_type": "code",
   "execution_count": null,
   "id": "9064405e",
   "metadata": {},
   "outputs": [],
   "source": [
    "python3 -m autogluon.multimodal.cli.prepare_detection_dataset --dataset_name voc0712"
   ]
  },
  {
   "cell_type": "markdown",
   "id": "c80b6080",
   "metadata": {},
   "source": [
    "or extract it under a provided output path:"
   ]
  },
  {
   "cell_type": "code",
   "execution_count": null,
   "id": "99335148",
   "metadata": {},
   "outputs": [],
   "source": [
    "python3 -m autogluon.multimodal.cli.prepare_detection_dataset --dataset_name voc0712 --output_path ~/data"
   ]
  },
  {
   "cell_type": "markdown",
   "id": "9c31428d",
   "metadata": {},
   "source": [
    "or make it shorter:"
   ]
  },
  {
   "cell_type": "code",
   "execution_count": null,
   "id": "dab07a80",
   "metadata": {},
   "outputs": [],
   "source": [
    "python3 -m autogluon.multimodal.cli.prepare_detection_dataset -d voc -o ~/data"
   ]
  },
  {
   "cell_type": "markdown",
   "id": "bc3e9aa4",
   "metadata": {},
   "source": [
    "or download them separately"
   ]
  },
  {
   "cell_type": "code",
   "execution_count": null,
   "id": "e7b318fa",
   "metadata": {},
   "outputs": [],
   "source": [
    "python3 -m autogluon.multimodal.cli.prepare_detection_dataset -d voc07 -o ~/data\n",
    "python3 -m autogluon.multimodal.cli.prepare_detection_dataset -d voc12 -o ~/data"
   ]
  },
  {
   "cell_type": "markdown",
   "id": "88157dfe",
   "metadata": {},
   "source": [
    "### Download with Bash Script\n",
    "\n",
    "You could either extract it under current directory by running:"
   ]
  },
  {
   "cell_type": "code",
   "execution_count": null,
   "id": "aba61077",
   "metadata": {},
   "outputs": [],
   "source": [
    "bash download_voc0712.sh"
   ]
  },
  {
   "cell_type": "markdown",
   "id": "1f974890",
   "metadata": {},
   "source": [
    "or extract it under a provided output path:"
   ]
  },
  {
   "cell_type": "code",
   "execution_count": null,
   "id": "46fd605f",
   "metadata": {},
   "outputs": [],
   "source": [
    "bash download_voc0712.sh ~/data"
   ]
  },
  {
   "cell_type": "markdown",
   "id": "6b4a68ae",
   "metadata": {},
   "source": [
    "The command line output will show the progress bar:"
   ]
  },
  {
   "cell_type": "code",
   "execution_count": null,
   "id": "926961b5",
   "metadata": {},
   "outputs": [],
   "source": [
    "extract data in current directory\n",
    "Downloading VOC2007 trainval ...\n",
    "  % Total    % Received % Xferd  Average Speed   Time    Time     Time  Current\n",
    "                                 Dload  Upload   Total   Spent    Left  Speed\n",
    "100  438M  100  438M    0     0  92.3M      0  0:00:04  0:00:04 --:--:-- 95.5M\n",
    "Downloading VOC2007 test data ...\n",
    "  % Total    % Received % Xferd  Average Speed   Time    Time     Time  Current\n",
    "                                 Dload  Upload   Total   Spent    Left  Speed\n",
    "100  430M  100  430M    0     0  96.5M      0  0:00:04  0:00:04 --:--:-- 99.1M\n",
    "Downloading VOC2012 trainval ...\n",
    "  % Total    % Received % Xferd  Average Speed   Time    Time     Time  Current\n",
    "                                 Dload  Upload   Total   Spent    Left  Speed\n",
    " 73 1907M   73 1401M    0     0   108M      0  0:00:17  0:00:12  0:00:05  118M\n"
   ]
  },
  {
   "cell_type": "markdown",
   "id": "2487140c",
   "metadata": {},
   "source": [
    "And after it finished, VOC datasets are extracted in folder `VOCdevkit`, it contains"
   ]
  },
  {
   "cell_type": "code",
   "execution_count": null,
   "id": "974dd71d",
   "metadata": {},
   "outputs": [],
   "source": [
    "VOC2007  VOC2012"
   ]
  },
  {
   "cell_type": "markdown",
   "id": "a76562f7",
   "metadata": {},
   "source": [
    "And both of them contains:"
   ]
  },
  {
   "cell_type": "code",
   "execution_count": null,
   "id": "3b0eef59",
   "metadata": {},
   "outputs": [],
   "source": [
    "Annotations  ImageSets  JPEGImages  SegmentationClass  SegmentationObject"
   ]
  },
  {
   "cell_type": "markdown",
   "id": "a5fc8cd9",
   "metadata": {},
   "source": [
    "### The VOC Format\n",
    "VOC also refers to the specific format (in `.xml` file) the VOC dataset is using.\n",
    "\n",
    "**In Autogluon MultiModalPredictor, we strongly recommend using COCO as your data format instead.\n",
    "Check :label:`sec_automm_detection_prepare_coco17` and :ref:`convert_data_to_coco_format` for more information\n",
    "about COCO dataset and how to convert a VOC dataset to COCO.**\n",
    "\n",
    "However, for fast proof testing we also have limit support for VOC format.\n",
    "While using VOC format dataset, the input is the root path of the dataset, and contains at least:"
   ]
  },
  {
   "cell_type": "code",
   "execution_count": null,
   "id": "58dccafc",
   "metadata": {},
   "outputs": [],
   "source": [
    "Annotations  ImageSets  JPEGImages labels.txt"
   ]
  },
  {
   "cell_type": "markdown",
   "id": "759b747f",
   "metadata": {},
   "source": [
    "Here `labels.txt` shall be added manually to include all the labels in the dataset. \n",
    "Using VOC Dataset as an example, the content of `labels.txt` is shown as below:"
   ]
  },
  {
   "cell_type": "code",
   "execution_count": null,
   "id": "e4f55a54",
   "metadata": {},
   "outputs": [],
   "source": [
    "aeroplane\n",
    "bicycle\n",
    "bird\n",
    "boat\n",
    "bottle\n",
    "bus\n",
    "car\n",
    "cat\n",
    "chair\n",
    "cow\n",
    "diningtable\n",
    "dog\n",
    "horse\n",
    "motorbike\n",
    "person\n",
    "pottedplant\n",
    "sheep\n",
    "sofa\n",
    "train\n",
    "tvmonitor"
   ]
  },
  {
   "cell_type": "markdown",
   "id": "706a250e",
   "metadata": {},
   "source": [
    "### Other Examples\n",
    "\n",
    "You may go to [AutoMM Examples](https://github.com/awslabs/autogluon/tree/master/examples/automm) to explore other examples about AutoMM.\n",
    "\n",
    "### Customization\n",
    "To learn how to customize AutoMM, please refer to :ref:`sec_automm_customization`.\n",
    "\n",
    "### Citation\n",
    "```\n",
    "@Article{Everingham10,\n",
    "   author = \"Everingham, M. and Van~Gool, L. and Williams, C. K. I. and Winn, J. and Zisserman, A.\",\n",
    "   title = \"The Pascal Visual Object Classes (VOC) Challenge\",\n",
    "   journal = \"International Journal of Computer Vision\",\n",
    "   volume = \"88\",\n",
    "   year = \"2010\",\n",
    "   number = \"2\",\n",
    "   month = jun,\n",
    "   pages = \"303--338\",\n",
    "}\n",
    "```"
   ]
  }
 ],
 "metadata": {},
 "nbformat": 4,
 "nbformat_minor": 5
}
