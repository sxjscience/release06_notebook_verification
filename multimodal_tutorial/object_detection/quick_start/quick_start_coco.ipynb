{
 "cells": [
  {
   "cell_type": "markdown",
   "id": "3be1030c",
   "metadata": {},
   "source": [
    "# AutoMM Detection - Quick Start on a Tiny COCO Format Dataset\n",
    ":label:`sec_automm_detection_quick_start_coco`\n",
    "\n",
    "In this section, our goal is to fast finetune a pretrained model on a small dataset in COCO format, \n",
    "and evaluate on its test set. Both training and test sets are in COCO format.\n",
    "See :ref:`sec_automm_detection_convert_to_coco` for how to convert other datasets to COCO format.\n",
    "\n",
    "To start, let's import MultiModalPredictor:"
   ]
  },
  {
   "cell_type": "code",
   "execution_count": null,
   "id": "792b5e1e",
   "metadata": {},
   "outputs": [],
   "source": [
    "from autogluon.multimodal import MultiModalPredictor"
   ]
  },
  {
   "cell_type": "markdown",
   "id": "bc433d8a",
   "metadata": {},
   "source": [
    "Make sure `mmcv-full` and `mmdet` are installed:"
   ]
  },
  {
   "cell_type": "code",
   "execution_count": null,
   "id": "9cfb17be",
   "metadata": {},
   "outputs": [],
   "source": [
    "!mim install mmcv-full\n",
    "!pip install mmdet"
   ]
  },
  {
   "cell_type": "markdown",
   "id": "95dfb0ae",
   "metadata": {},
   "source": [
    "And also import some other packages that will be used in this tutorial:"
   ]
  },
  {
   "cell_type": "code",
   "execution_count": null,
   "id": "f854e65a",
   "metadata": {},
   "outputs": [],
   "source": [
    "import os\n",
    "import time\n",
    "\n",
    "from autogluon.core.utils.loaders import load_zip"
   ]
  },
  {
   "cell_type": "markdown",
   "id": "f42fa0a9",
   "metadata": {},
   "source": [
    "We have the sample dataset ready in the cloud. Let's download it:"
   ]
  },
  {
   "cell_type": "code",
   "execution_count": null,
   "id": "7e94019b",
   "metadata": {},
   "outputs": [],
   "source": [
    "zip_file = \"https://automl-mm-bench.s3.amazonaws.com/object_detection_dataset/tiny_motorbike_coco.zip\"\n",
    "download_dir = \"./tiny_motorbike_coco\"\n",
    "\n",
    "load_zip.unzip(zip_file, unzip_dir=download_dir)\n",
    "data_dir = os.path.join(download_dir, \"tiny_motorbike\")\n",
    "train_path = os.path.join(data_dir, \"Annotations\", \"trainval_cocoformat.json\")\n",
    "test_path = os.path.join(data_dir, \"Annotations\", \"test_cocoformat.json\")"
   ]
  },
  {
   "cell_type": "markdown",
   "id": "aa2b8e91",
   "metadata": {},
   "source": [
    "While using COCO format dataset, the input is the json annotation file of the dataset split.\n",
    "In this example, `trainval_cocoformat.json` is the annotation file of the train-and-validate split,\n",
    "and `test_cocoformat.json` is the annotation file of the test split.\n",
    "\n",
    "We select the YOLOv3 with MobileNetV2 as backbone,\n",
    "and input resolution is 320x320, pretrained on COCO dataset. With this setting, it is fast to finetune or inference,\n",
    "and easy to deploy.\n",
    "For more model choices, see :label:`sec_automm_detection_selecting_models`.\n",
    "And we use all the GPUs (if any):"
   ]
  },
  {
   "cell_type": "code",
   "execution_count": null,
   "id": "4d56583c",
   "metadata": {},
   "outputs": [],
   "source": [
    "checkpoint_name = \"yolov3_mobilenetv2_320_300e_coco\"\n",
    "num_gpus = -1  # use all GPUs"
   ]
  },
  {
   "cell_type": "markdown",
   "id": "5cf7daf3",
   "metadata": {},
   "source": [
    "We create the MultiModalPredictor with selected checkpoint name and number of GPUs.\n",
    "We need to specify the problem_type to `\"object_detection\"`,\n",
    "and also provide a `sample_data_path` for the predictor to infer the catgories of the dataset.\n",
    "Here we provide the `train_path`, and it also works using any other split of this dataset.\n",
    "And we also provide a `path` to save the predictor. \n",
    "It will be saved to a automatically generated directory with timestamp under `AutogluonModels` if `path` is not specified."
   ]
  },
  {
   "cell_type": "code",
   "execution_count": null,
   "id": "b4468d21",
   "metadata": {},
   "outputs": [],
   "source": [
    "# Init predictor\n",
    "predictor = MultiModalPredictor(\n",
    "    hyperparameters={\n",
    "        \"model.mmdet_image.checkpoint_name\": checkpoint_name,\n",
    "        \"env.num_gpus\": num_gpus,\n",
    "    },\n",
    "    problem_type=\"object_detection\",\n",
    "    sample_data_path=train_path,\n",
    "    path=\"./quick_start_tutorial_temp_save\",\n",
    ")"
   ]
  },
  {
   "cell_type": "markdown",
   "id": "49d18282",
   "metadata": {},
   "source": [
    "We set the learning rate to be `2e-4`.\n",
    "Note that we use a two-stage learning rate option during finetuning by default,\n",
    "and the model head will have 100x learning rate.\n",
    "Using a two-stage learning rate with high learning rate only on head layers makes\n",
    "the model converge faster during finetuning. It usually gives better performance as well,\n",
    "especially on small datasets with hundreds or thousands of images.\n",
    "We also set the epoch to be 15 and batch_size to be 32.\n",
    "For more information about how to tune those hyperparameters,\n",
    "see :ref:`sec_automm_detection_tune_hyperparameters`.\n",
    "We also compute the time of the fit process here for better understanding the speed.\n",
    "We run it on a g4.2xlarge EC2 machine on AWS,\n",
    "and part of the command outputs are shown below:"
   ]
  },
  {
   "cell_type": "code",
   "execution_count": null,
   "id": "540a2eb4",
   "metadata": {},
   "outputs": [],
   "source": [
    "start = time.time()\n",
    "# Fit\n",
    "predictor.fit(\n",
    "    train_path,\n",
    "    hyperparameters={\n",
    "        \"optimization.learning_rate\": 2e-4, # we use two stage and detection head has 100x lr\n",
    "        \"optimization.max_epochs\": 30,\n",
    "        \"env.per_gpu_batch_size\": 32,  # decrease it when model is large\n",
    "    },\n",
    ")\n",
    "train_end = time.time()"
   ]
  },
  {
   "cell_type": "markdown",
   "id": "77a3aeb3",
   "metadata": {},
   "source": [
    "Notice that at the end of each progress bar, if the checkpoint at current stage is saved,\n",
    "it prints the model's save path.\n",
    "In this example, it's `./quick_start_tutorial_temp_save`.\n",
    "\n",
    "Print out the time and we can see that it's fast!"
   ]
  },
  {
   "cell_type": "code",
   "execution_count": null,
   "id": "476386a8",
   "metadata": {},
   "outputs": [],
   "source": [
    "print(\"This finetuning takes %.2f seconds.\" % (train_end - start))"
   ]
  },
  {
   "cell_type": "markdown",
   "id": "9f3bb107",
   "metadata": {},
   "source": [
    "To evaluate the model we just trained, run following code.\n",
    "\n",
    "And the evaluation results are shown in command line output. \n",
    "The first line is mAP in COCO standard, and the second line is mAP in VOC standard (or mAP50). \n",
    "For more details about these metrics, see [COCO's evaluation guideline](https://cocodataset.org/#detection-eval).\n",
    "Note that for presenting a fast finetuning we use 15 epochs, \n",
    "you could get better result on this dataset by simply increasing the epochs."
   ]
  },
  {
   "cell_type": "code",
   "execution_count": null,
   "id": "9ae6f260",
   "metadata": {},
   "outputs": [],
   "source": [
    "predictor.evaluate(test_path)\n",
    "eval_end = time.time()"
   ]
  },
  {
   "cell_type": "markdown",
   "id": "e6f37108",
   "metadata": {},
   "source": [
    "Print out the evaluation time:"
   ]
  },
  {
   "cell_type": "code",
   "execution_count": null,
   "id": "284c26c5",
   "metadata": {},
   "outputs": [],
   "source": [
    "print(\"The evaluation takes %.2f seconds.\" % (eval_end - train_end))"
   ]
  },
  {
   "cell_type": "markdown",
   "id": "f3c64824",
   "metadata": {},
   "source": [
    "We can load a new predictor with previous save_path,\n",
    "and we can also reset the number of GPUs to use if not all the devices are available:"
   ]
  },
  {
   "cell_type": "code",
   "execution_count": null,
   "id": "55765c67",
   "metadata": {},
   "outputs": [],
   "source": [
    "# Load and reset num_gpus\n",
    "new_predictor = MultiModalPredictor.load(\"./quick_start_tutorial_temp_save\")\n",
    "new_predictor.set_num_gpus(1)"
   ]
  },
  {
   "cell_type": "markdown",
   "id": "c6afa71d",
   "metadata": {},
   "source": [
    "Evaluating the new predictor gives us exactly the same result:"
   ]
  },
  {
   "cell_type": "code",
   "execution_count": null,
   "id": "c8b17abc",
   "metadata": {},
   "outputs": [],
   "source": [
    "# Evaluate new predictor\n",
    "new_predictor.evaluate(test_path)"
   ]
  },
  {
   "cell_type": "markdown",
   "id": "d36380a6",
   "metadata": {},
   "source": [
    "### Other Examples\n",
    "\n",
    "You may go to [AutoMM Examples](https://github.com/awslabs/autogluon/tree/master/examples/automm) to explore other examples about AutoMM.\n",
    "\n",
    "### Customization\n",
    "To learn how to customize AutoMM, please refer to :ref:`sec_automm_customization`.\n",
    "\n",
    "### Citation"
   ]
  },
  {
   "cell_type": "code",
   "execution_count": null,
   "id": "654e7514",
   "metadata": {},
   "outputs": [],
   "source": [
    "@misc{redmon2018yolov3,\n",
    "    title={YOLOv3: An Incremental Improvement},\n",
    "    author={Joseph Redmon and Ali Farhadi},\n",
    "    year={2018},\n",
    "    eprint={1804.02767},\n",
    "    archivePrefix={arXiv},\n",
    "    primaryClass={cs.CV}\n",
    "}"
   ]
  }
 ],
 "metadata": {},
 "nbformat": 4,
 "nbformat_minor": 5
}
